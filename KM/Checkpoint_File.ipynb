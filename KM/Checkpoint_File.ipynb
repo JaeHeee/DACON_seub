{
 "cells": [
  {
   "cell_type": "markdown",
   "metadata": {},
   "source": [
    "## Import Libraries"
   ]
  },
  {
   "cell_type": "code",
   "execution_count": 16,
   "metadata": {
    "ExecuteTime": {
     "end_time": "2020-09-07T13:01:45.032875Z",
     "start_time": "2020-09-07T13:01:44.783135Z"
    }
   },
   "outputs": [],
   "source": [
    "import os\n",
    "import numpy as np\n",
    "import pandas as pd\n",
    "import matplotlib.pyplot as plt\n",
    "import pickle\n",
    "\n",
    "%matplotlib inline\n",
    "\n",
    "from sklearn.model_selection import train_test_split\n",
    "import tensorflow as tf\n",
    "import tensorflow_addons as tfa\n",
    "from tensorflow.keras import utils\n",
    "from tensorflow.keras.preprocessing.image import ImageDataGenerator\n",
    "\n",
    "from sklearn.preprocessing import LabelEncoder\n",
    "from sklearn.preprocessing import OneHotEncoder\n",
    "\n",
    "from sklearn.model_selection import KFold"
   ]
  },
  {
   "cell_type": "markdown",
   "metadata": {},
   "source": [
    "### 모델 학습 graph "
   ]
  },
  {
   "cell_type": "code",
   "execution_count": 24,
   "metadata": {
    "ExecuteTime": {
     "end_time": "2020-09-07T13:04:05.250873Z",
     "start_time": "2020-09-07T13:04:05.245323Z"
    }
   },
   "outputs": [],
   "source": [
    "def plot_curve(epochs, hist, list_of_metrics):\n",
    "    \n",
    "    fig, ax = plt.subplots(1,2,figsize = (12, 8))\n",
    "    \n",
    "    for i in range(len(ax)):\n",
    "        ax[i].set_xlabel('Epochs')\n",
    "        ax[i].set_ylabel('Value')\n",
    "        \n",
    "        for n in range(len(list_of_metrics)):\n",
    "            if i == 0:\n",
    "                y = hist[list_of_metrics[n]]\n",
    "                if n == 0:\n",
    "                    ax[i].plot(epochs, y, label=\"train\")\n",
    "                else:\n",
    "                    ax[i].plot(epochs, y, label=\"val\")\n",
    "                ax[i].set_title('Loss')\n",
    "                ax[i].legend(loc='upper right')\n",
    "                if n == 1:\n",
    "                    break\n",
    "            else:\n",
    "                if n >= 2:\n",
    "                    y = hist[list_of_metrics[n]]\n",
    "                    if n == 2:\n",
    "                        ax[i].plot(epochs, y, label=\"train\")\n",
    "                    else:\n",
    "                        ax[i].plot(epochs, y, label=\"val\")\n",
    "                    ax[i].set_title('Accuracy')\n",
    "                    ax[i].legend(loc='lower right')\n",
    "                    \n",
    "    plt.show()"
   ]
  },
  {
   "cell_type": "markdown",
   "metadata": {},
   "source": [
    "모델이 학습한 후의 그래프를 보여줍니다.  \n",
    "정확도와 오차를 보기 쉽게 비교해줍니다."
   ]
  },
  {
   "cell_type": "markdown",
   "metadata": {},
   "source": [
    "### alphabet image"
   ]
  },
  {
   "cell_type": "code",
   "execution_count": 11,
   "metadata": {
    "ExecuteTime": {
     "end_time": "2020-09-07T06:02:59.058564Z",
     "start_time": "2020-09-07T06:02:59.056300Z"
    }
   },
   "outputs": [],
   "source": [
    "def digit_image(x):\n",
    "    return np.where(x>=150, x, 0)"
   ]
  },
  {
   "cell_type": "markdown",
   "metadata": {},
   "source": [
    "원본 이미지에서 숫자만 따로 추출하는 함수입니다.  \n",
    "숫자 전부가 아닌 알파벳 마스크 때문에 가려진 부분은 추출되지 않을 것 입니다."
   ]
  },
  {
   "cell_type": "markdown",
   "metadata": {},
   "source": [
    "## Train"
   ]
  },
  {
   "cell_type": "code",
   "execution_count": 6,
   "metadata": {
    "ExecuteTime": {
     "end_time": "2020-09-07T13:01:29.597688Z",
     "start_time": "2020-09-07T13:01:29.349533Z"
    }
   },
   "outputs": [],
   "source": [
    "X_trains = pickle.load(open(\"./pickle/X_train.pkl\", 'rb'))\n",
    "y_trains = pickle.load(open(\"./pickle/y_train.pkl\", 'rb'))\n",
    "TEST = pickle.load(open(\"./pickle/test.pkl\", 'rb'))"
   ]
  },
  {
   "cell_type": "code",
   "execution_count": 7,
   "metadata": {
    "ExecuteTime": {
     "end_time": "2020-09-07T13:01:31.471691Z",
     "start_time": "2020-09-07T13:01:30.480432Z"
    }
   },
   "outputs": [],
   "source": [
    "from tensorflow.keras.models import Sequential\n",
    "from tensorflow.keras.models import Model\n",
    "from tensorflow.keras.layers import Add, Input, Flatten, Dense, GlobalAveragePooling2D, Dropout, Conv2D, BatchNormalization, MaxPooling2D\n",
    "from tensorflow.keras.optimizers import Adam, RMSprop\n",
    "from tensorflow.keras.losses import sparse_categorical_crossentropy"
   ]
  },
  {
   "cell_type": "code",
   "execution_count": 8,
   "metadata": {
    "ExecuteTime": {
     "end_time": "2020-09-07T13:01:31.496675Z",
     "start_time": "2020-09-07T13:01:31.494664Z"
    }
   },
   "outputs": [],
   "source": [
    "reduction_ratio=8\n",
    "axis = 3\n",
    "groups_size = 8"
   ]
  },
  {
   "cell_type": "code",
   "execution_count": 9,
   "metadata": {
    "ExecuteTime": {
     "end_time": "2020-09-07T13:01:31.589094Z",
     "start_time": "2020-09-07T13:01:31.586627Z"
    }
   },
   "outputs": [],
   "source": [
    "import tensorflow as tf\n",
    "from tensorflow.keras import Sequential\n",
    "from tensorflow.keras.regularizers import l2\n",
    "from tensorflow.keras.layers import SeparableConv2D, Input, Conv2D, Add, BatchNormalization, concatenate, AveragePooling2D, add, MaxPooling2D, Conv2DTranspose, Activation, Dropout,UpSampling2D ,ZeroPadding2D, LeakyReLU\n",
    "from tensorflow.keras.models import load_model, Model\n",
    "from tensorflow.keras.callbacks import EarlyStopping, ModelCheckpoint, ReduceLROnPlateau, CSVLogger\n"
   ]
  },
  {
   "cell_type": "markdown",
   "metadata": {},
   "source": [
    "### RexNet"
   ]
  },
  {
   "cell_type": "code",
   "execution_count": 10,
   "metadata": {
    "ExecuteTime": {
     "end_time": "2020-09-07T13:01:32.754687Z",
     "start_time": "2020-09-07T13:01:32.718452Z"
    }
   },
   "outputs": [],
   "source": [
    "def rexnet_model(shape):\n",
    "    inputs = Input(shape=(28,28,3))\n",
    "\n",
    "    conv1 = tf.keras.layers.Conv2D(filters=128, kernel_size=(5,5), kernel_initializer='he_normal', activation='elu', padding='same',\n",
    "                              kernel_constraint=tf.keras.constraints.max_norm(3.))(inputs) #28x28x128\n",
    "\n",
    "\n",
    "    ## Residual Unit1\n",
    "    batch1_1 = tf.keras.layers.BatchNormalization()(conv1)\n",
    "    elu1_1 = tf.keras.layers.ELU()(batch1_1)\n",
    "    res1_1 = tf.keras.layers.Conv2D(filters=32, kernel_size=(1,1), padding='same',kernel_constraint=tf.keras.constraints.max_norm(3.))(elu1_1) \n",
    "    batch1_2 = tf.keras.layers.BatchNormalization()(res1_1)\n",
    "    elu1_2 = tf.keras.layers.ELU()(batch1_2)\n",
    "    res1_2 = tf.keras.layers.Conv2D(filters=32, kernel_size=(3,3), padding='same',kernel_constraint=tf.keras.constraints.max_norm(3.))(elu1_2) \n",
    "    batch1_3 = tf.keras.layers.BatchNormalization()(res1_2)\n",
    "    elu1_3 = tf.keras.layers.ELU()(batch1_3)\n",
    "    res1_3 = tf.keras.layers.Conv2D(filters=128, kernel_size=(1,1), padding='same',kernel_constraint=tf.keras.constraints.max_norm(3.))(elu1_3)                          \n",
    "\n",
    "    # SEBlock1\n",
    "    ch_input1 = 128\n",
    "    ch_reduced1 = ch_input1//reduction_ratio\n",
    "    avpool1 = tf.keras.layers.GlobalAveragePooling2D()(res1_3)\n",
    "    sed1_1 = tf.keras.layers.Dense(ch_reduced1, kernel_initializer='he_normal', activation='elu', use_bias=False)(avpool1)\n",
    "    sed1_2 = tf.keras.layers.Dense(ch_input1, kernel_initializer='he_normal', activation='sigmoid', use_bias=False)(sed1_1)\n",
    "    reshape1 = tf.keras.layers.Reshape((1,1,ch_input1))(sed1_2)\n",
    "    mul1 = tf.keras.layers.Multiply()([res1_3, reshape1])\n",
    "    #\n",
    "\n",
    "    skip1 = tf.keras.layers.Conv2D(filters=128, kernel_size=(1,1), padding='same')(conv1)\n",
    "    res1 = tf.keras.layers.Add()([mul1, skip1]) #28x28x128\n",
    "    ##\n",
    "\n",
    "    ## Residual Unit2\n",
    "    batch2_1 = tf.keras.layers.BatchNormalization()(res1)\n",
    "    elu2_1 = tf.keras.layers.ELU()(batch2_1)\n",
    "    res2_1 = tf.keras.layers.Conv2D(filters=32, kernel_size=(1,1), padding='same',kernel_constraint=tf.keras.constraints.max_norm(3.))(elu2_1) \n",
    "    batch2_2 = tf.keras.layers.BatchNormalization()(res2_1)\n",
    "    elu2_2 = tf.keras.layers.ELU()(batch2_2)\n",
    "    res2_2 = tf.keras.layers.Conv2D(filters=32, kernel_size=(3,3), padding='same',kernel_constraint=tf.keras.constraints.max_norm(3.))(elu2_2) \n",
    "    batch2_3 = tf.keras.layers.BatchNormalization()(res2_2)\n",
    "    elu2_3 = tf.keras.layers.ELU()(batch2_3)\n",
    "    res2_3 = tf.keras.layers.Conv2D(filters=128, kernel_size=(1,1), padding='same',kernel_constraint=tf.keras.constraints.max_norm(3.))(elu2_3)                         \n",
    "\n",
    "\n",
    "    # SEBlock2\n",
    "    ch_input2 = 128\n",
    "    ch_reduced2 = ch_input2//reduction_ratio\n",
    "    avpool2 = tf.keras.layers.GlobalAveragePooling2D()(res2_3)\n",
    "    sed2_1 = tf.keras.layers.Dense(ch_reduced2, kernel_initializer='he_normal', activation='elu', use_bias=False)(avpool2)\n",
    "    sed2_2 = tf.keras.layers.Dense(ch_input2, kernel_initializer='he_normal', activation='sigmoid', use_bias=False)(sed2_1)\n",
    "    reshape2 = tf.keras.layers.Reshape((1,1,ch_input2))(sed2_2)\n",
    "    mul2 = tf.keras.layers.Multiply()([res2_3, reshape2])\n",
    "    #\n",
    "    skip2 = tf.keras.layers.Conv2D(filters=128, kernel_size=(1,1), padding='same')(res1)\n",
    "    res2 = tf.keras.layers.Add()([mul2, skip2])\n",
    "    drop2 = tf.keras.layers.Dropout(0.3)(res2) # 28x28x128\n",
    "    ##\n",
    "\n",
    "\n",
    "    ## Residual Unit3\n",
    "    batch3_1 = tf.keras.layers.BatchNormalization()(drop2)\n",
    "    elu3_1 = tf.keras.layers.ELU()(batch3_1)\n",
    "    res3_1 = tf.keras.layers.Conv2D(filters=64, kernel_size=(1,1), padding='same',kernel_constraint=tf.keras.constraints.max_norm(3.))(elu3_1) \n",
    "    batch3_2 = tf.keras.layers.BatchNormalization()(res3_1)\n",
    "    elu3_2 = tf.keras.layers.ELU()(batch3_2)\n",
    "    res3_2 = tf.keras.layers.Conv2D(filters=64, kernel_size=(3,3), padding='same',kernel_constraint=tf.keras.constraints.max_norm(3.))(elu3_2) \n",
    "    batch3_3 = tf.keras.layers.BatchNormalization()(res3_2)\n",
    "    elu3_3 = tf.keras.layers.ELU()(batch3_3)\n",
    "    res3_3 = tf.keras.layers.Conv2D(filters=128, kernel_size=(1,1), padding='same',kernel_constraint=tf.keras.constraints.max_norm(3.))(elu3_3)                           \n",
    "\n",
    "\n",
    "    # SEBlock3\n",
    "    ch_input3 = 128\n",
    "    ch_reduced3 = ch_input3//reduction_ratio\n",
    "    avpool3 = tf.keras.layers.GlobalAveragePooling2D()(res3_3)\n",
    "    sed3_1 = tf.keras.layers.Dense(ch_reduced3, kernel_initializer='he_normal', activation='elu', use_bias=False)(avpool3)\n",
    "    sed3_2 = tf.keras.layers.Dense(ch_input3, kernel_initializer='he_normal', activation='sigmoid', use_bias=False)(sed3_1)\n",
    "    reshape3 = tf.keras.layers.Reshape((1,1,ch_input3))(sed3_2)\n",
    "    mul3 = tf.keras.layers.Multiply()([res3_3, reshape3])\n",
    "    #\n",
    "    skip3 = tf.keras.layers.Conv2D(filters=128, kernel_size=(1,1),padding='same')(drop2)\n",
    "    res3 = tf.keras.layers.Add()([mul3, skip3]) #28x28x128\n",
    "    ##\n",
    "\n",
    "\n",
    "    ## Residual Unit4\n",
    "    batch4_1 = tf.keras.layers.BatchNormalization()(res3)\n",
    "    elu4_1 = tf.keras.layers.ELU()(batch4_1)\n",
    "    res4_1 = tf.keras.layers.Conv2D(filters=64, kernel_size=(1,1), padding='same',kernel_constraint=tf.keras.constraints.max_norm(3.))(elu4_1) \n",
    "    batch4_2 = tf.keras.layers.BatchNormalization()(res4_1)\n",
    "    elu4_2 = tf.keras.layers.ELU()(batch4_2)\n",
    "    res4_2 = tf.keras.layers.Conv2D(filters=64, kernel_size=(3,3), padding='same',kernel_constraint=tf.keras.constraints.max_norm(3.))(elu4_2) \n",
    "    batch4_3 = tf.keras.layers.BatchNormalization()(res4_2)\n",
    "    elu4_3 = tf.keras.layers.ELU()(batch4_3)\n",
    "    res4_3 = tf.keras.layers.Conv2D(filters=256, kernel_size=(1,1), padding='same',kernel_constraint=tf.keras.constraints.max_norm(3.))(elu4_3)                              \n",
    "\n",
    "\n",
    "    # SEBlock4\n",
    "    ch_input4 = 256\n",
    "    ch_reduced4 = ch_input4//reduction_ratio\n",
    "    avpool4 = tf.keras.layers.GlobalAveragePooling2D()(res4_3)\n",
    "    sed4_1 = tf.keras.layers.Dense(ch_reduced4, kernel_initializer='he_normal', activation='elu', use_bias=False)(avpool4)\n",
    "    sed4_2 = tf.keras.layers.Dense(ch_input4, kernel_initializer='he_normal', activation='sigmoid', use_bias=False)(sed4_1)\n",
    "    reshape4 = tf.keras.layers.Reshape((1,1,ch_input4))(sed4_2)\n",
    "    mul4 = tf.keras.layers.Multiply()([res4_3, reshape4])\n",
    "    #\n",
    "    skip4 = tf.keras.layers.Conv2D(filters=256, kernel_size=(1,1),padding='same')(res3)\n",
    "    res4 = tf.keras.layers.Add()([mul4, skip4])\n",
    "    pool4 = tf.keras.layers.MaxPool2D((2,2))(res4)\n",
    "    drop4 = tf.keras.layers.Dropout(0.3)(pool4) # 14x14x256\n",
    "    ##\n",
    "\n",
    "\n",
    "    ## Residual Unit5\n",
    "    batch5_1 = tf.keras.layers.BatchNormalization()(drop4)\n",
    "    elu5_1 = tf.keras.layers.ELU()(batch5_1)\n",
    "    res5_1 = tf.keras.layers.Conv2D(filters=64, kernel_size=(1,1), padding='same',kernel_constraint=tf.keras.constraints.max_norm(3.))(elu5_1) \n",
    "    batch5_2 = tf.keras.layers.BatchNormalization()(res5_1)\n",
    "    elu5_2 = tf.keras.layers.ELU()(batch5_2)\n",
    "    res5_2 = tf.keras.layers.Conv2D(filters=64, kernel_size=(3,3), padding='same',kernel_constraint=tf.keras.constraints.max_norm(3.))(elu5_2) \n",
    "    batch5_3 = tf.keras.layers.BatchNormalization()(res5_2)\n",
    "    elu5_3 = tf.keras.layers.ELU()(batch5_3)\n",
    "    res5_3 = tf.keras.layers.Conv2D(filters=256, kernel_size=(1,1), padding='same',kernel_constraint=tf.keras.constraints.max_norm(3.))(elu5_3)                                 \n",
    "\n",
    "\n",
    "    # SEBlock5\n",
    "    ch_input5 = 256\n",
    "    ch_reduced5 = ch_input5//reduction_ratio\n",
    "    avpool5 = tf.keras.layers.GlobalAveragePooling2D()(res5_3)\n",
    "    sed5_1 = tf.keras.layers.Dense(ch_reduced5, kernel_initializer='he_normal', activation='elu', use_bias=False)(avpool5)\n",
    "    sed5_2 = tf.keras.layers.Dense(ch_input5, kernel_initializer='he_normal', activation='sigmoid', use_bias=False)(sed5_1)\n",
    "    reshape5 = tf.keras.layers.Reshape((1,1,ch_input5))(sed5_2)\n",
    "    mul5 = tf.keras.layers.Multiply()([res5_3, reshape5])\n",
    "    #\n",
    "    skip5 = tf.keras.layers.Conv2D(filters=256, kernel_size=(1,1),padding='same')(drop4)\n",
    "    res5 = tf.keras.layers.Add()([mul5, skip5])\n",
    "    pool5 = tf.keras.layers.MaxPool2D((2,2))(res5) #7x7x256\n",
    "    ##\n",
    "\n",
    "\n",
    "    ## Residual Unit6\n",
    "    batch6_1 = tf.keras.layers.BatchNormalization()(pool5)\n",
    "    elu6_1 = tf.keras.layers.ELU()(batch6_1)\n",
    "    res6_1 = tf.keras.layers.Conv2D(filters=64, kernel_size=(1,1), padding='same',kernel_constraint=tf.keras.constraints.max_norm(3.))(elu6_1) \n",
    "    batch6_2 = tf.keras.layers.BatchNormalization()(res6_1)\n",
    "    elu6_2 = tf.keras.layers.ELU()(batch6_2)\n",
    "    res6_2 = tf.keras.layers.Conv2D(filters=64, kernel_size=(3,3), padding='same',kernel_constraint=tf.keras.constraints.max_norm(3.))(elu6_2) \n",
    "    batch6_3 = tf.keras.layers.BatchNormalization()(res6_2)\n",
    "    elu6_3 = tf.keras.layers.ELU()(batch6_3)\n",
    "    res6_3 = tf.keras.layers.Conv2D(filters=256, kernel_size=(1,1), padding='same',kernel_constraint=tf.keras.constraints.max_norm(3.))(elu6_3)\n",
    "    # SEBlock6\n",
    "    ch_input6 = 256\n",
    "    ch_reduced6 = ch_input6//reduction_ratio\n",
    "    avpool6 = tf.keras.layers.GlobalAveragePooling2D()(res6_3)\n",
    "    sed6_1 = tf.keras.layers.Dense(ch_reduced6, kernel_initializer='he_normal', activation='elu', use_bias=False)(avpool6)\n",
    "    sed6_2 = tf.keras.layers.Dense(ch_input6, kernel_initializer='he_normal', activation='sigmoid', use_bias=False)(sed6_1)\n",
    "    reshape6 = tf.keras.layers.Reshape((1,1,ch_input6))(sed6_2)\n",
    "    mul6 = tf.keras.layers.Multiply()([res6_3, reshape6])\n",
    "    #\n",
    "    skip6 = tf.keras.layers.Conv2D(filters=256, kernel_size=(1,1),padding='same')(pool5)\n",
    "    res6 = tf.keras.layers.Add()([mul6, skip6])\n",
    "    drop6 = tf.keras.layers.Dropout(0.3)(res6) # 7x7x256\n",
    "    ##\n",
    "\n",
    "    ## Residual Unit7\n",
    "    batch7_1 = tf.keras.layers.BatchNormalization()(drop6)\n",
    "    elu7_1 = tf.keras.layers.ELU()(batch7_1)\n",
    "    res7_1 = tf.keras.layers.Conv2D(filters=64, kernel_size=(1,1), padding='same',kernel_constraint=tf.keras.constraints.max_norm(3.))(elu7_1) \n",
    "    batch7_2 = tf.keras.layers.BatchNormalization()(res7_1)\n",
    "    elu7_2 = tf.keras.layers.ELU()(batch7_2)\n",
    "    res7_2 = tf.keras.layers.Conv2D(filters=64, kernel_size=(3,3), padding='same',kernel_constraint=tf.keras.constraints.max_norm(3.))(elu7_2) \n",
    "    batch7_3 = tf.keras.layers.BatchNormalization()(res7_2)\n",
    "    elu7_3 = tf.keras.layers.ELU()(batch7_3)\n",
    "    res7_3 = tf.keras.layers.Conv2D(filters=512, kernel_size=(1,1), padding='same',kernel_constraint=tf.keras.constraints.max_norm(3.))(elu7_3)\n",
    "    skip7 = tf.keras.layers.Conv2D(filters=512, kernel_size=(1,1),padding='same')(drop6)\n",
    "    res7 = tf.keras.layers.Add()([res7_3, skip7])\n",
    "    pool7 = tf.keras.layers.MaxPool2D((3,3))(res7) \n",
    "    \n",
    "    flatten1 = tf.keras.layers.Flatten()(pool7)\n",
    "    \n",
    "    dense1 = tf.keras.layers.Dense(1024, activation='elu', kernel_initializer='he_normal', kernel_constraint=tf.keras.constraints.max_norm(3.))(flatten1)\n",
    "    \n",
    "    drop1 = tf.keras.layers.Dropout(0.5)(dense1)\n",
    "    outputs = tf.keras.layers.Dense(10 ,activation='softmax')(drop1)\n",
    "    model = Model(inputs=inputs, outputs=outputs)\n",
    "\n",
    "    return model"
   ]
  },
  {
   "cell_type": "markdown",
   "metadata": {},
   "source": [
    "### Unet"
   ]
  },
  {
   "cell_type": "code",
   "execution_count": 11,
   "metadata": {
    "ExecuteTime": {
     "end_time": "2020-09-07T13:01:33.621040Z",
     "start_time": "2020-09-07T13:01:33.610338Z"
    }
   },
   "outputs": [],
   "source": [
    "# Generate model\n",
    "def unet_classification(shape, activation='elu', weight=False):\n",
    "    '''\n",
    "    activation : relu or elu\n",
    "    weight : 로드할 모델의 가중치의 여부\n",
    "    '''\n",
    "    drop = 0.5\n",
    "    \n",
    "    unit1 = 64\n",
    "    unit2 = 128\n",
    "    unit3 = 256\n",
    "    unit4 = 512\n",
    "    unit5 = 1024\n",
    "    # 28 x 28 x 3\n",
    "    inputs = Input(shape)\n",
    "    # 28 x 28 x 64\n",
    "    conv0 = Conv2D(filters=64, kernel_size=(5,5), kernel_initializer='he_normal', activation='elu', padding='same',\n",
    "                              kernel_constraint=tf.keras.constraints.max_norm(3.))(inputs) \n",
    "    # 56 x 56 x 64\n",
    "    conv0 = UpSampling2D(size=(2,2))(conv0)\n",
    "    # 56 x 56 x 64\n",
    "    conv1 = Conv2D(unit1, 3, padding = 'same', kernel_initializer = 'he_normal')(conv0)\n",
    "    conv1 = BatchNormalization()(conv1)\n",
    "    conv1 = Activation(activation)(conv1)\n",
    "    conv1 = Conv2D(unit1, 3, padding = 'same', kernel_initializer = 'he_normal')(conv1)\n",
    "    conv1 = BatchNormalization()(conv1)\n",
    "    conv1 = Activation(activation)(conv1)\n",
    "    # 28 x 28 x 64\n",
    "    pool1 = MaxPooling2D(pool_size=(2, 2))(conv1)\n",
    "    pool1 = Dropout(drop)(pool1)\n",
    "    # 28 x 28 x 128\n",
    "    conv2 = Conv2D(unit2, 3, padding = 'same', kernel_initializer = 'he_normal')(pool1)\n",
    "    conv2 = BatchNormalization()(conv2)\n",
    "    conv2 = Activation(activation)(conv2)\n",
    "    conv2 = Conv2D(unit2, 3, padding = 'same', kernel_initializer = 'he_normal')(conv2)\n",
    "    conv2 = BatchNormalization()(conv2)\n",
    "    conv2 = Activation(activation)(conv2)\n",
    "    # 14 x 14 x 128\n",
    "    pool2 = MaxPooling2D(pool_size=(2, 2))(conv2)\n",
    "    pool2 = Dropout(drop)(pool2)\n",
    "    # 14 x 14 x 256\n",
    "    conv3 = Conv2D(unit3, 3, padding = 'same', kernel_initializer = 'he_normal')(pool2)\n",
    "    conv3 = BatchNormalization()(conv3)\n",
    "    conv3 = Activation(activation)(conv3)\n",
    "    conv3 = Conv2D(unit3, 3, padding = 'same', kernel_initializer = 'he_normal')(conv3)\n",
    "    conv3 = BatchNormalization()(conv3)\n",
    "    conv3 = Activation(activation)(conv3)\n",
    "    # 7 x 7 x 256\n",
    "    pool3 = MaxPooling2D(pool_size=(2, 2))(conv3)\n",
    "    pool3 = Dropout(drop)(pool3)\n",
    "    # 7 x 7 x 512\n",
    "    conv4 = Conv2D(unit4, 3, padding = 'same', kernel_initializer = 'he_normal')(pool3)\n",
    "    conv4 = BatchNormalization()(conv4)\n",
    "    conv4 = Activation(activation)(conv4)\n",
    "    conv4 = Conv2D(unit4, 3, padding = 'same', kernel_initializer = 'he_normal')(conv4)\n",
    "    conv4 = BatchNormalization()(conv4)\n",
    "    conv4 = Activation(activation)(conv4)\n",
    "    # 2 x 2 x 512\n",
    "    pool4 = MaxPooling2D(pool_size=(3, 3))(conv4)\n",
    "    pool4 = Dropout(drop)(pool4)\n",
    "    # 2 x 2 x 1024\n",
    "    conv5 = Conv2D(unit5, 3, padding = 'same', kernel_initializer = 'he_normal')(pool4)\n",
    "    conv5 = BatchNormalization()(conv5)\n",
    "    conv5 = Activation(activation)(conv5)\n",
    "    conv5 = Conv2D(unit5, 3, padding = 'same', kernel_initializer = 'he_normal')(conv5)\n",
    "    conv5 = BatchNormalization()(conv5)\n",
    "    conv5 = Activation(activation)(conv5)\n",
    "\n",
    "    flatten1 = tf.keras.layers.Flatten()(conv5)\n",
    "\n",
    "    dense1 = tf.keras.layers.Dense(1024, activation='elu', kernel_initializer='he_normal', kernel_constraint=tf.keras.constraints.max_norm(3.))(flatten1)\n",
    "    drop1 = tf.keras.layers.Dropout(0.5)(dense1)\n",
    "    outputs = tf.keras.layers.Dense(10 ,activation='softmax')(drop1)\n",
    "    model = Model(inputs=inputs, outputs=outputs)\n",
    "    return model\n"
   ]
  },
  {
   "cell_type": "markdown",
   "metadata": {},
   "source": [
    "### Inception"
   ]
  },
  {
   "cell_type": "code",
   "execution_count": 12,
   "metadata": {
    "ExecuteTime": {
     "end_time": "2020-09-07T13:01:34.000144Z",
     "start_time": "2020-09-07T13:01:33.990322Z"
    }
   },
   "outputs": [],
   "source": [
    "def inception(shape, LOOP=7):\n",
    "    unit1 = 64\n",
    "    unit2 = 128\n",
    "    unit3 = 256\n",
    "    unit4 = 512\n",
    "    unit5 = 1024\n",
    "    drop = 0.5\n",
    "    \n",
    "    inputs = Input(shape)\n",
    "    activation_ = 'elu'\n",
    "    \n",
    "    conv1 = Conv2D(filters=64, kernel_size=(5,5), kernel_initializer='he_normal', activation='elu', padding='same',\n",
    "                              kernel_constraint=tf.keras.constraints.max_norm(3.))(inputs) \n",
    "    # 56 x 56 x 64\n",
    "    conv1 = UpSampling2D(size=(2,2))(conv1)\n",
    "#     inputs = BatchNormalization()(inputs)\n",
    "    # 56 x 56 x 64\n",
    "    conv1 = Conv2D(unit1, kernel_size=3, strides=1, padding='same', kernel_initializer='he_normal')(inputs)\n",
    "    conv1 = BatchNormalization()(conv1)\n",
    "    conv1 = Activation(activation_)(conv1)\n",
    "    # 28 x 28 x 64\n",
    "    pool1 = MaxPooling2D(pool_size=(2, 2))(conv1)\n",
    "    pool1 = Dropout(drop)(pool1)\n",
    "    # 28 x 28 x 128\n",
    "    conv2 = Conv2D(unit2, kernel_size=3, strides=1, padding='same', kernel_initializer='he_normal')(pool1)\n",
    "    conv2 = BatchNormalization()(conv2)\n",
    "    conv2 = Activation(activation_)(conv2)\n",
    "    # 14 x 14 x 128\n",
    "    pool2 = MaxPooling2D(pool_size=(2, 2))(conv2)\n",
    "    pool2 = Dropout(drop)(pool2)\n",
    "    # 14 x 14 x 256\n",
    "    conv3 = Conv2D(unit3, kernel_size=3, strides=1, padding='same', kernel_initializer='he_normal')(pool2)\n",
    "    conv3 = BatchNormalization()(conv3)\n",
    "    conv3 = Activation(activation_)(conv3)\n",
    "    # 7 x 7 x 256\n",
    "    pool3 = MaxPooling2D(pool_size=(2, 2))(conv3)\n",
    "    pool3 = Dropout(drop)(pool3)\n",
    "    \n",
    "    # 7 x 7 x 512\n",
    "    for i in range(LOOP):\n",
    "        incep1 = BatchNormalization()(pool3)\n",
    "        incep1 = Conv2D(unit4, 1, padding='same', activation=activation_)(incep1)\n",
    "\n",
    "        incep3 = Conv2D(unit4, 1, padding='same', activation=activation_)(incep1)\n",
    "        incep3 = Conv2D(unit4, 3, padding='same', activation=activation_)(incep3)\n",
    "\n",
    "        incep5 = Conv2D(unit4, 1, padding='same', activation=activation_)(incep3)\n",
    "        incep5 = Conv2D(unit4, 3, padding='same', activation=activation_)(incep5)\n",
    "        incep5 = Conv2D(unit4, 3, padding='same', activation=activation_)(incep5)\n",
    "\n",
    "        pool1 = AveragePooling2D(\n",
    "            pool_size=(3, 3), strides=1, padding='same')(incep5)\n",
    "        pool1 = Conv2D(32, 1, padding='same', activation=activation_)(pool1)\n",
    "\n",
    "        concat = concatenate([incep1, incep3, incep5, pool1])\n",
    "        \n",
    "    # 7 x 7 x 1024\n",
    "    conv4 = BatchNormalization()(concat)\n",
    "    conv4 = Conv2D(unit5, kernel_size=3, strides=1, padding='same', kernel_initializer='he_normal')(conv4)\n",
    "    conv4 = BatchNormalization()(conv4)\n",
    "    conv4 = Activation(activation_)(conv4)\n",
    "    \n",
    "    # 2 x 2 x 1024\n",
    "    pool4 = MaxPooling2D(pool_size=(3, 3))(conv4)\n",
    "    pool4 = Dropout(drop)(pool4)\n",
    "    \n",
    "    flatten1 = tf.keras.layers.Flatten()(pool4)\n",
    "        \n",
    "    dense1 = tf.keras.layers.Dense(1024, activation='elu', kernel_initializer='he_normal', kernel_constraint=tf.keras.constraints.max_norm(3.))(flatten1)\n",
    "    drop1 = tf.keras.layers.Dropout(0.5)(dense1)\n",
    "    outputs = tf.keras.layers.Dense(10 ,activation='softmax')(drop1)\n",
    "    model = Model(inputs=inputs, outputs=outputs)\n",
    "\n",
    "    return model"
   ]
  },
  {
   "cell_type": "code",
   "execution_count": 13,
   "metadata": {
    "ExecuteTime": {
     "end_time": "2020-09-07T13:01:34.167831Z",
     "start_time": "2020-09-07T13:01:34.162038Z"
    }
   },
   "outputs": [
    {
     "data": {
      "text/plain": [
       "(2048, 28, 28, 3)"
      ]
     },
     "execution_count": 13,
     "metadata": {},
     "output_type": "execute_result"
    }
   ],
   "source": [
    "X_trains.shape"
   ]
  },
  {
   "cell_type": "code",
   "execution_count": 14,
   "metadata": {
    "ExecuteTime": {
     "end_time": "2020-09-07T13:01:34.346572Z",
     "start_time": "2020-09-07T13:01:34.343905Z"
    }
   },
   "outputs": [
    {
     "data": {
      "text/plain": [
       "(2048, 10)"
      ]
     },
     "execution_count": 14,
     "metadata": {},
     "output_type": "execute_result"
    }
   ],
   "source": [
    "y_trains.shape"
   ]
  },
  {
   "cell_type": "code",
   "execution_count": 17,
   "metadata": {
    "ExecuteTime": {
     "end_time": "2020-09-07T13:01:51.586643Z",
     "start_time": "2020-09-07T13:01:51.574535Z"
    }
   },
   "outputs": [],
   "source": [
    "datagen = ImageDataGenerator(\n",
    "    rotation_range=30,\n",
    "    width_shift_range=0.3,\n",
    "    height_shift_range=0.3,\n",
    "    shear_range=0.3,\n",
    "    zoom_range=0.3,\n",
    "    fill_mode='nearest'\n",
    ")\n",
    "datagen.fit(X_trains)"
   ]
  },
  {
   "cell_type": "code",
   "execution_count": 18,
   "metadata": {
    "ExecuteTime": {
     "end_time": "2020-09-07T13:01:51.895122Z",
     "start_time": "2020-09-07T13:01:51.886704Z"
    }
   },
   "outputs": [],
   "source": [
    "SEED = 2020\n",
    "X_trains = X_trains/255.0"
   ]
  },
  {
   "cell_type": "code",
   "execution_count": 19,
   "metadata": {
    "ExecuteTime": {
     "end_time": "2020-09-07T13:01:52.089235Z",
     "start_time": "2020-09-07T13:01:52.086699Z"
    }
   },
   "outputs": [
    {
     "data": {
      "text/plain": [
       "(2048, 28, 28, 3)"
      ]
     },
     "execution_count": 19,
     "metadata": {},
     "output_type": "execute_result"
    }
   ],
   "source": [
    "X_trains.shape"
   ]
  },
  {
   "cell_type": "code",
   "execution_count": 20,
   "metadata": {
    "ExecuteTime": {
     "end_time": "2020-09-07T13:01:52.340637Z",
     "start_time": "2020-09-07T13:01:52.333051Z"
    },
    "scrolled": true
   },
   "outputs": [],
   "source": [
    "# 많은 데이터 셋으로 학습시키기 위해 FOLD를 100으로 설정했습니다. Fold 1 중간에 Stop시켰기에 break 조건을 넣어놨습니다.\n",
    "def get_stacking(in_model, train, train_y, n_fold = 10, SEED=2020):\n",
    "    k_fold = KFold(n_splits=3, shuffle=True, random_state=SEED)\n",
    "    \n",
    "    epochs = 1\n",
    "    model_number = 0\n",
    "    history = []\n",
    "    batch_size = 32\n",
    "    val_predict = []\n",
    "\n",
    "    train_fold_predict = np.zeros((train.shape[0], 1))\n",
    "    test_predict = []\n",
    "    arm_test_predict = np.array([0]*204800).reshape(20480, 10).astype('float64')\n",
    "    \n",
    "    for cnt, (train_idx, val_idx) in enumerate(k_fold.split(train, train_y)):\n",
    "        print(f'*******************number_{cnt+1}_kfold_model*******************')\n",
    "        x_train, y_train = train[train_idx], train_y[train_idx]\n",
    "        x_val, y_val = train[val_idx], train_y[val_idx]\n",
    "        \n",
    "        model = in_model(train.shape[1:])\n",
    "        model.compile(loss=\"categorical_crossentropy\",\n",
    "                      optimizer=Adam(lr=0.001, beta_1=0.9, beta_2=0.999, epsilon=1e-07), \n",
    "                      metrics=[\"accuracy\"])\n",
    "\n",
    "        es = EarlyStopping(patience=15, verbose=1)\n",
    "        mc = ModelCheckpoint(f'model1_best_{model_number}.h5', save_best_only=True, verbose=1)\n",
    "        rlp = ReduceLROnPlateau(monitor='val_loss', patience=4, factor=0.8, min_lr=0.0001)\n",
    "        \n",
    "        history = model.fit(datagen.flow(x_train, y_train, shuffle=True, batch_size=batch_size),\n",
    "                                  epochs=epochs,\n",
    "                                  validation_data=(x_val, y_val),\n",
    "                                  verbose=1,\n",
    "                                  steps_per_epoch=x_train.shape[0] // batch_size,\n",
    "                                  validation_steps=x_val.shape[0] // batch_size,\n",
    "                                  callbacks=[es, mc, rlp]\n",
    "                                  )\n",
    "        \n",
    "#         history = model.fit(x_train, y_train, epochs = 53, validation_data=(x_val, y_val), verbose=1, batch_size = batch_size, callbacks = [es, mc, rlp])\n",
    "        \n",
    "        plot_curve(history.epoch, history.history, ['loss', 'val_loss', 'accuracy', 'val_accuracy'])\n",
    "        \n",
    "        \n",
    "        model.load_weights(f'model1_best_{model_number}.h5')\n",
    "        pred_train = model.predict(x_val)\n",
    "        pred_test = model.predict(TEST)\n",
    "        \n",
    "        train_fold_predict[val_idx, :] = np.argmax(pred_train, 1).reshape((x_val.shape[0], 1))\n",
    "        \n",
    "        test_predict.append(pred_test)\n",
    "    \n",
    "    for pred_test in test_predict:\n",
    "        arm_test_predict += pred_test\n",
    "          \n",
    "    test_fold_predict = np.argmax(arm_test_predict, axis=1).reshape((TEST.shape[0], 1))\n",
    "    train_fold_predict = train_fold_predict.astype('int64')\n",
    "    \n",
    "    return train_fold_predict, test_fold_predict"
   ]
  },
  {
   "cell_type": "markdown",
   "metadata": {},
   "source": [
    "## Predict"
   ]
  },
  {
   "cell_type": "code",
   "execution_count": 25,
   "metadata": {
    "ExecuteTime": {
     "end_time": "2020-09-07T13:05:38.286348Z",
     "start_time": "2020-09-07T13:04:18.823304Z"
    },
    "scrolled": true
   },
   "outputs": [
    {
     "name": "stdout",
     "output_type": "stream",
     "text": [
      "*******************number_1_kfold_model*******************\n",
      "42/42 [==============================] - ETA: 0s - loss: 5.7093 - accuracy: 0.1012\n",
      "Epoch 00001: val_loss improved from inf to 2.49306, saving model to model1_best_0.h5\n",
      "42/42 [==============================] - 3s 60ms/step - loss: 5.7093 - accuracy: 0.1012 - val_loss: 2.4931 - val_accuracy: 0.1098 - lr: 0.0010\n"
     ]
    },
    {
     "data": {
      "image/png": "[encoded data removed]",
      "text/plain": [
       "<Figure size 864x576 with 2 Axes>"
      ]
     },
     "metadata": {
      "needs_background": "light"
     },
     "output_type": "display_data"
    },
    {
     "name": "stdout",
     "output_type": "stream",
     "text": [
      "*******************number_2_kfold_model*******************\n",
      "41/42 [============================>.] - ETA: 0s - loss: 5.9430 - accuracy: 0.0922\n",
      "Epoch 00001: val_loss improved from inf to 2.49685, saving model to model1_best_0.h5\n",
      "42/42 [==============================] - 2s 56ms/step - loss: 5.8628 - accuracy: 0.0938 - val_loss: 2.4968 - val_accuracy: 0.1083 - lr: 0.0010\n"
     ]
    },
    {
     "data": {
      "image/png": "[encoded data removed]",
      "text/plain": [
       "<Figure size 864x576 with 2 Axes>"
      ]
     },
     "metadata": {
      "needs_background": "light"
     },
     "output_type": "display_data"
    },
    {
     "name": "stdout",
     "output_type": "stream",
     "text": [
      "*******************number_3_kfold_model*******************\n",
      "42/42 [==============================] - ETA: 0s - loss: 5.6866 - accuracy: 0.1138\n",
      "Epoch 00001: val_loss improved from inf to 2.39103, saving model to model1_best_0.h5\n",
      "42/42 [==============================] - 16s 391ms/step - loss: 5.6866 - accuracy: 0.1138 - val_loss: 2.3910 - val_accuracy: 0.1730 - lr: 0.0010\n"
     ]
    },
    {
     "data": {
      "image/png": "[encoded data removed]",
      "text/plain": [
       "<Figure size 864x576 with 2 Axes>"
      ]
     },
     "metadata": {
      "needs_background": "light"
     },
     "output_type": "display_data"
    }
   ],
   "source": [
    "RX_train, RX_test = get_stacking(rexnet_model, X_trains, y_trains)"
   ]
  },
  {
   "cell_type": "code",
   "execution_count": 96,
   "metadata": {
    "ExecuteTime": {
     "end_time": "2020-09-07T08:02:28.325715Z",
     "start_time": "2020-09-07T08:00:25.284489Z"
    },
    "scrolled": true
   },
   "outputs": [
    {
     "name": "stdout",
     "output_type": "stream",
     "text": [
      "*******************number_1_kfold_model*******************\n",
      "41/42 [============================>.] - ETA: 0s - loss: 6.2592 - accuracy: 0.1128\n",
      "Epoch 00001: val_loss improved from inf to 6.03508, saving model to model1_best_0.h5\n",
      "42/42 [==============================] - 26s 622ms/step - loss: 6.2172 - accuracy: 0.1153 - val_loss: 6.0351 - val_accuracy: 0.1201 - lr: 0.0010\n"
     ]
    },
    {
     "data": {
      "image/png": "[encoded data removed]",
      "text/plain": [
       "<Figure size 864x576 with 2 Axes>"
      ]
     },
     "metadata": {
      "needs_background": "light"
     },
     "output_type": "display_data"
    },
    {
     "name": "stdout",
     "output_type": "stream",
     "text": [
      "*******************number_2_kfold_model*******************\n",
      "41/42 [============================>.] - ETA: 0s - loss: 6.2907 - accuracy: 0.1220\n",
      "Epoch 00001: val_loss improved from inf to 7.29308, saving model to model1_best_0.h5\n",
      "42/42 [==============================] - 3s 62ms/step - loss: 6.2298 - accuracy: 0.1235 - val_loss: 7.2931 - val_accuracy: 0.1083 - lr: 0.0010\n"
     ]
    },
    {
     "data": {
      "image/png": "[encoded data removed]",
      "text/plain": [
       "<Figure size 864x576 with 2 Axes>"
      ]
     },
     "metadata": {
      "needs_background": "light"
     },
     "output_type": "display_data"
    },
    {
     "name": "stdout",
     "output_type": "stream",
     "text": [
      "*******************number_3_kfold_model*******************\n",
      "41/42 [============================>.] - ETA: 0s - loss: 6.2340 - accuracy: 0.1128\n",
      "Epoch 00001: val_loss improved from inf to 7.56055, saving model to model1_best_0.h5\n",
      "42/42 [==============================] - 15s 353ms/step - loss: 6.1854 - accuracy: 0.1124 - val_loss: 7.5606 - val_accuracy: 0.1290 - lr: 0.0010\n"
     ]
    },
    {
     "data": {
      "image/png": "[encoded data removed]",
      "text/plain": [
       "<Figure size 864x576 with 2 Axes>"
      ]
     },
     "metadata": {
      "needs_background": "light"
     },
     "output_type": "display_data"
    }
   ],
   "source": [
    "IN_train, IN_test = get_stacking(inception, X_trains, y_trains)"
   ]
  },
  {
   "cell_type": "code",
   "execution_count": 97,
   "metadata": {
    "ExecuteTime": {
     "end_time": "2020-09-07T08:05:09.637434Z",
     "start_time": "2020-09-07T08:02:28.429136Z"
    },
    "scrolled": true
   },
   "outputs": [
    {
     "name": "stdout",
     "output_type": "stream",
     "text": [
      "*******************number_1_kfold_model*******************\n",
      "41/42 [============================>.] - ETA: 0s - loss: 7.0346 - accuracy: 0.0998\n",
      "Epoch 00001: val_loss improved from inf to 40.90468, saving model to model1_best_0.h5\n",
      "42/42 [==============================] - 36s 849ms/step - loss: 6.9415 - accuracy: 0.0997 - val_loss: 40.9047 - val_accuracy: 0.0864 - lr: 0.0010\n"
     ]
    },
    {
     "data": {
      "image/png": "[encoded data removed]",
      "text/plain": [
       "<Figure size 864x576 with 2 Axes>"
      ]
     },
     "metadata": {
      "needs_background": "light"
     },
     "output_type": "display_data"
    },
    {
     "name": "stdout",
     "output_type": "stream",
     "text": [
      "*******************number_2_kfold_model*******************\n",
      "41/42 [============================>.] - ETA: 0s - loss: 5.7197 - accuracy: 0.1098\n",
      "Epoch 00001: val_loss improved from inf to 7.41973, saving model to model1_best_0.h5\n",
      "42/42 [==============================] - 3s 66ms/step - loss: 5.6595 - accuracy: 0.1086 - val_loss: 7.4197 - val_accuracy: 0.0922 - lr: 0.0010\n"
     ]
    },
    {
     "data": {
      "image/png": "[encoded data removed]",
      "text/plain": [
       "<Figure size 864x576 with 2 Axes>"
      ]
     },
     "metadata": {
      "needs_background": "light"
     },
     "output_type": "display_data"
    },
    {
     "name": "stdout",
     "output_type": "stream",
     "text": [
      "*******************number_3_kfold_model*******************\n",
      "42/42 [==============================] - ETA: 0s - loss: 6.3321 - accuracy: 0.0990\n",
      "Epoch 00001: val_loss improved from inf to 9.71544, saving model to model1_best_0.h5\n",
      "42/42 [==============================] - 18s 417ms/step - loss: 6.3321 - accuracy: 0.0990 - val_loss: 9.7154 - val_accuracy: 0.0953 - lr: 0.0010\n"
     ]
    },
    {
     "data": {
      "image/png": "[encoded data removed]",
      "text/plain": [
       "<Figure size 864x576 with 2 Axes>"
      ]
     },
     "metadata": {
      "needs_background": "light"
     },
     "output_type": "display_data"
    }
   ],
   "source": [
    "UC_train, UC_test = get_stacking(unet_classification, X_trains, y_trains)"
   ]
  },
  {
   "cell_type": "code",
   "execution_count": 42,
   "metadata": {
    "ExecuteTime": {
     "end_time": "2020-09-07T06:38:30.038194Z",
     "start_time": "2020-09-07T06:38:30.035788Z"
    }
   },
   "outputs": [],
   "source": [
    "# RX_train = RX_train.reshape((RX_train.shape[0]))\n",
    "# RX_test = RX_test.reshape((RX_test.shape[0]))\n",
    "# # UC_train = UC_train.reshape((UC_train.shape[0], 1))\n",
    "# # UC_test = UC_test.reshape((UC_test.shape[0], 1)) "
   ]
  },
  {
   "cell_type": "code",
   "execution_count": 98,
   "metadata": {
    "ExecuteTime": {
     "end_time": "2020-09-07T08:10:25.663538Z",
     "start_time": "2020-09-07T08:10:25.660225Z"
    }
   },
   "outputs": [
    {
     "data": {
      "text/plain": [
       "array([[2],\n",
       "       [0],\n",
       "       [8],\n",
       "       ...,\n",
       "       [0],\n",
       "       [0],\n",
       "       [0]])"
      ]
     },
     "execution_count": 98,
     "metadata": {},
     "output_type": "execute_result"
    }
   ],
   "source": [
    "RX_test"
   ]
  },
  {
   "cell_type": "code",
   "execution_count": 99,
   "metadata": {
    "ExecuteTime": {
     "end_time": "2020-09-07T08:11:00.693520Z",
     "start_time": "2020-09-07T08:11:00.689724Z"
    },
    "scrolled": true
   },
   "outputs": [
    {
     "name": "stdout",
     "output_type": "stream",
     "text": [
      "origin : (2048, 28, 28, 3) (20480, 28, 28, 3)\n",
      "new :  (2048, 3) (20480, 3)\n"
     ]
    }
   ],
   "source": [
    "new_X_train = np.concatenate((RX_train, IN_train, UC_train), axis = 1)\n",
    "new_X_test = np.concatenate((RX_test, IN_test,  UC_test), axis = 1)\n",
    "print('origin :', X_trains.shape, TEST.shape)\n",
    "print('new : ', new_X_train.shape, new_X_test.shape)"
   ]
  },
  {
   "cell_type": "code",
   "execution_count": 102,
   "metadata": {
    "ExecuteTime": {
     "end_time": "2020-09-07T08:11:40.369262Z",
     "start_time": "2020-09-07T08:11:40.363935Z"
    }
   },
   "outputs": [
    {
     "data": {
      "text/plain": [
       "(2048, 10)"
      ]
     },
     "execution_count": 102,
     "metadata": {},
     "output_type": "execute_result"
    }
   ],
   "source": [
    "y_trains.shape"
   ]
  },
  {
   "cell_type": "code",
   "execution_count": 103,
   "metadata": {
    "ExecuteTime": {
     "end_time": "2020-09-07T08:12:57.767112Z",
     "start_time": "2020-09-07T08:12:57.764900Z"
    }
   },
   "outputs": [],
   "source": [
    "new_y_train = np.argmax(y_trains, axis=1).reshape((y_trains.shape[0], 1))"
   ]
  },
  {
   "cell_type": "code",
   "execution_count": 104,
   "metadata": {
    "ExecuteTime": {
     "end_time": "2020-09-07T08:13:04.542392Z",
     "start_time": "2020-09-07T08:13:01.930975Z"
    }
   },
   "outputs": [
    {
     "name": "stderr",
     "output_type": "stream",
     "text": [
      "/home/aiffel0042/anaconda3/envs/aiffel/lib/python3.7/site-packages/sklearn/utils/validation.py:73: DataConversionWarning: A column-vector y was passed when a 1d array was expected. Please change the shape of y to (n_samples, ), for example using ravel().\n",
      "  return f(**kwargs)\n"
     ]
    }
   ],
   "source": [
    "from lightgbm import LGBMClassifier\n",
    "lgbm = LGBMClassifier(n_estimators=200)\n",
    "lgbm.fit(new_X_train, new_y_train)\n",
    "final_pred = lgbm.predict(new_X_test)"
   ]
  },
  {
   "cell_type": "code",
   "execution_count": 105,
   "metadata": {
    "ExecuteTime": {
     "end_time": "2020-09-07T08:13:11.187573Z",
     "start_time": "2020-09-07T08:13:11.184766Z"
    }
   },
   "outputs": [
    {
     "data": {
      "text/plain": [
       "array([1, 0, 8, ..., 2, 2, 0])"
      ]
     },
     "execution_count": 105,
     "metadata": {},
     "output_type": "execute_result"
    }
   ],
   "source": [
    "final_pred"
   ]
  },
  {
   "cell_type": "code",
   "execution_count": 106,
   "metadata": {
    "ExecuteTime": {
     "end_time": "2020-09-07T08:13:53.816071Z",
     "start_time": "2020-09-07T08:13:53.813722Z"
    }
   },
   "outputs": [],
   "source": [
    "submission['digit'] = final_pred"
   ]
  },
  {
   "cell_type": "code",
   "execution_count": 107,
   "metadata": {
    "ExecuteTime": {
     "end_time": "2020-09-07T08:13:54.221442Z",
     "start_time": "2020-09-07T08:13:54.213903Z"
    }
   },
   "outputs": [
    {
     "data": {
      "text/html": [
       "<div>\n",
       "<style scoped>\n",
       "    .dataframe tbody tr th:only-of-type {\n",
       "        vertical-align: middle;\n",
       "    }\n",
       "\n",
       "    .dataframe tbody tr th {\n",
       "        vertical-align: top;\n",
       "    }\n",
       "\n",
       "    .dataframe thead th {\n",
       "        text-align: right;\n",
       "    }\n",
       "</style>\n",
       "<table border=\"1\" class=\"dataframe\">\n",
       "  <thead>\n",
       "    <tr style=\"text-align: right;\">\n",
       "      <th></th>\n",
       "      <th>id</th>\n",
       "      <th>digit</th>\n",
       "    </tr>\n",
       "  </thead>\n",
       "  <tbody>\n",
       "    <tr>\n",
       "      <th>0</th>\n",
       "      <td>2049</td>\n",
       "      <td>1</td>\n",
       "    </tr>\n",
       "    <tr>\n",
       "      <th>1</th>\n",
       "      <td>2050</td>\n",
       "      <td>0</td>\n",
       "    </tr>\n",
       "    <tr>\n",
       "      <th>2</th>\n",
       "      <td>2051</td>\n",
       "      <td>8</td>\n",
       "    </tr>\n",
       "    <tr>\n",
       "      <th>3</th>\n",
       "      <td>2052</td>\n",
       "      <td>2</td>\n",
       "    </tr>\n",
       "    <tr>\n",
       "      <th>4</th>\n",
       "      <td>2053</td>\n",
       "      <td>2</td>\n",
       "    </tr>\n",
       "    <tr>\n",
       "      <th>...</th>\n",
       "      <td>...</td>\n",
       "      <td>...</td>\n",
       "    </tr>\n",
       "    <tr>\n",
       "      <th>20475</th>\n",
       "      <td>22524</td>\n",
       "      <td>2</td>\n",
       "    </tr>\n",
       "    <tr>\n",
       "      <th>20476</th>\n",
       "      <td>22525</td>\n",
       "      <td>2</td>\n",
       "    </tr>\n",
       "    <tr>\n",
       "      <th>20477</th>\n",
       "      <td>22526</td>\n",
       "      <td>2</td>\n",
       "    </tr>\n",
       "    <tr>\n",
       "      <th>20478</th>\n",
       "      <td>22527</td>\n",
       "      <td>2</td>\n",
       "    </tr>\n",
       "    <tr>\n",
       "      <th>20479</th>\n",
       "      <td>22528</td>\n",
       "      <td>0</td>\n",
       "    </tr>\n",
       "  </tbody>\n",
       "</table>\n",
       "<p>20480 rows × 2 columns</p>\n",
       "</div>"
      ],
      "text/plain": [
       "          id  digit\n",
       "0       2049      1\n",
       "1       2050      0\n",
       "2       2051      8\n",
       "3       2052      2\n",
       "4       2053      2\n",
       "...      ...    ...\n",
       "20475  22524      2\n",
       "20476  22525      2\n",
       "20477  22526      2\n",
       "20478  22527      2\n",
       "20479  22528      0\n",
       "\n",
       "[20480 rows x 2 columns]"
      ]
     },
     "execution_count": 107,
     "metadata": {},
     "output_type": "execute_result"
    }
   ],
   "source": [
    "submission"
   ]
  },
  {
   "cell_type": "code",
   "execution_count": null,
   "metadata": {
    "ExecuteTime": {
     "end_time": "2020-09-06T12:39:03.156664Z",
     "start_time": "2020-09-06T12:13:09.037Z"
    }
   },
   "outputs": [],
   "source": [
    "submission.to_csv('./submission/rexnet_ensemble_channel3_submission.csv', index=False)"
   ]
  },
  {
   "cell_type": "code",
   "execution_count": null,
   "metadata": {},
   "outputs": [],
   "source": []
  }
 ],
 "metadata": {
  "kernelspec": {
   "display_name": "aiffel",
   "language": "python",
   "name": "aiffel"
  },
  "language_info": {
   "codemirror_mode": {
    "name": "ipython",
    "version": 3
   },
   "file_extension": ".py",
   "mimetype": "text/x-python",
   "name": "python",
   "nbconvert_exporter": "python",
   "pygments_lexer": "ipython3",
   "version": "3.7.6"
  },
  "toc": {
   "base_numbering": 1,
   "nav_menu": {},
   "number_sections": true,
   "sideBar": true,
   "skip_h1_title": true,
   "title_cell": "Table of Contents",
   "title_sidebar": "Contents",
   "toc_cell": false,
   "toc_position": {
    "height": "calc(100% - 180px)",
    "left": "10px",
    "top": "150px",
    "width": "384px"
   },
   "toc_section_display": true,
   "toc_window_display": false
  },
  "varInspector": {
   "cols": {
    "lenName": 16,
    "lenType": 16,
    "lenVar": 40
   },
   "kernels_config": {
    "python": {
     "delete_cmd_postfix": "",
     "delete_cmd_prefix": "del ",
     "library": "var_list.py",
     "varRefreshCmd": "print(var_dic_list())"
    },
    "r": {
     "delete_cmd_postfix": ") ",
     "delete_cmd_prefix": "rm(",
     "library": "var_list.r",
     "varRefreshCmd": "cat(var_dic_list()) "
    }
   },
   "types_to_exclude": [
    "module",
    "function",
    "builtin_function_or_method",
    "instance",
    "_Feature"
   ],
   "window_display": false
  }
 },
 "nbformat": 4,
 "nbformat_minor": 4
}
