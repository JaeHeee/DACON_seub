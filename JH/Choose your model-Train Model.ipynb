{
 "cells": [
  {
   "cell_type": "markdown",
   "metadata": {},
   "source": [
    "## Import Libraries"
   ]
  },
  {
   "cell_type": "code",
   "execution_count": 21,
   "metadata": {
    "ExecuteTime": {
     "end_time": "2020-09-08T03:41:56.114613Z",
     "start_time": "2020-09-08T03:41:56.108396Z"
    }
   },
   "outputs": [],
   "source": [
    "import os\n",
    "import numpy as np\n",
    "import pandas as pd\n",
    "import matplotlib.pyplot as plt\n",
    "import pickle\n",
    "\n",
    "%matplotlib inline\n",
    "\n",
    "from sklearn.model_selection import train_test_split\n",
    "import tensorflow as tf\n",
    "# import tensorflow_addons as tfa\n",
    "from tensorflow.keras import utils\n",
    "from tensorflow.keras.preprocessing.image import ImageDataGenerator\n",
    "from tensorflow.keras import Sequential\n",
    "from tensorflow.keras.regularizers import l2\n",
    "from tensorflow.keras.layers import Dense, SeparableConv2D, Input, Conv2D, Add, BatchNormalization, concatenate, GlobalAveragePooling2D, AveragePooling2D, add, MaxPooling2D \n",
    "from tensorflow.keras.layers import Conv2DTranspose, Activation, Dropout,UpSampling2D ,ZeroPadding2D, LeakyReLU\n",
    "from tensorflow.keras.models import load_model, Model\n",
    "from tensorflow.keras.callbacks import EarlyStopping, ModelCheckpoint, ReduceLROnPlateau, CSVLogger\n",
    "from tensorflow.keras.optimizers import Adam, RMSprop\n",
    "from tensorflow.keras.losses import sparse_categorical_crossentropy\n",
    "\n",
    "from sklearn.preprocessing import LabelEncoder\n",
    "from sklearn.preprocessing import OneHotEncoder\n",
    "\n",
    "from sklearn.model_selection import KFold"
   ]
  },
  {
   "cell_type": "markdown",
   "metadata": {},
   "source": [
    "### 모델 학습 graph "
   ]
  },
  {
   "cell_type": "code",
   "execution_count": 22,
   "metadata": {
    "ExecuteTime": {
     "end_time": "2020-09-08T03:41:56.486537Z",
     "start_time": "2020-09-08T03:41:56.480389Z"
    }
   },
   "outputs": [],
   "source": [
    "def plot_curve(epochs, hist, list_of_metrics):\n",
    "    \n",
    "    fig, ax = plt.subplots(1,2,figsize = (12, 8))\n",
    "    \n",
    "    for i in range(len(ax)):\n",
    "        ax[i].set_xlabel('Epochs')\n",
    "        ax[i].set_ylabel('Value')\n",
    "        \n",
    "        for n in range(len(list_of_metrics)):\n",
    "            if i == 0:\n",
    "                y = hist[list_of_metrics[n]]\n",
    "                if n == 0:\n",
    "                    ax[i].plot(epochs, y, label=\"train\")\n",
    "                else:\n",
    "                    ax[i].plot(epochs, y, label=\"val\")\n",
    "                ax[i].set_title('Loss')\n",
    "                ax[i].legend(loc='upper right')\n",
    "                if n == 1:\n",
    "                    break\n",
    "            else:\n",
    "                if n >= 2:\n",
    "                    y = hist[list_of_metrics[n]]\n",
    "                    if n == 2:\n",
    "                        ax[i].plot(epochs, y, label=\"train\")\n",
    "                    else:\n",
    "                        ax[i].plot(epochs, y, label=\"val\")\n",
    "                    ax[i].set_title('Accuracy')\n",
    "                    ax[i].legend(loc='lower right')\n",
    "                    \n",
    "    plt.show()"
   ]
  },
  {
   "cell_type": "markdown",
   "metadata": {},
   "source": [
    "모델이 학습한 후의 그래프를 보여줍니다.  \n",
    "정확도와 오차를 보기 쉽게 비교해줍니다."
   ]
  },
  {
   "cell_type": "markdown",
   "metadata": {},
   "source": [
    "### alphabet image"
   ]
  },
  {
   "cell_type": "code",
   "execution_count": 23,
   "metadata": {
    "ExecuteTime": {
     "end_time": "2020-09-08T03:41:57.347228Z",
     "start_time": "2020-09-08T03:41:57.339252Z"
    }
   },
   "outputs": [],
   "source": [
    "def digit_image(x):\n",
    "    return np.where(x>=150, x, 0)"
   ]
  },
  {
   "cell_type": "markdown",
   "metadata": {},
   "source": [
    "원본 이미지에서 숫자만 따로 추출하는 함수입니다.  \n",
    "숫자 전부가 아닌 알파벳 마스크 때문에 가려진 부분은 추출되지 않을 것 입니다."
   ]
  },
  {
   "cell_type": "markdown",
   "metadata": {},
   "source": [
    "## Train"
   ]
  },
  {
   "cell_type": "code",
   "execution_count": 4,
   "metadata": {
    "ExecuteTime": {
     "end_time": "2020-09-08T03:41:58.318315Z",
     "start_time": "2020-09-08T03:41:58.232134Z"
    }
   },
   "outputs": [],
   "source": [
    "# with open('../data/no_deskew_data.npy', 'rb') as f:\n",
    "#     X_trains = np.load(f)\n",
    "#     X_letter = np.load(f)\n",
    "#     y_trains = np.load(f)\n",
    "#     TEST = np.load(f)\n",
    "#     TEST_letter = np.load(f)"
   ]
  },
  {
   "cell_type": "code",
   "execution_count": 8,
   "metadata": {},
   "outputs": [],
   "source": [
    "with open('../data/auto_data.npy', 'rb') as f:\n",
    "    train_auto = np.load(f)\n",
    "    y_auto = np.load(f)\n",
    "    test_auto = np.load(f)\n"
   ]
  },
  {
   "cell_type": "code",
   "execution_count": 47,
   "metadata": {},
   "outputs": [],
   "source": [
    "with open('../data/auto10000_data.npy', 'rb') as f:\n",
    "    train_auto = np.load(f)\n",
    "    y_auto = np.load(f)\n",
    "    test_auto = np.load(f)\n",
    "\n"
   ]
  },
  {
   "cell_type": "code",
   "execution_count": 67,
   "metadata": {},
   "outputs": [],
   "source": [
    "with open('../data/auto10000_deskew_data.npy', 'rb') as f:\n",
    "    train_auto = np.load(f)\n",
    "    y_auto = np.load(f)\n",
    "    test_auto = np.load(f)\n",
    "\n"
   ]
  },
  {
   "cell_type": "code",
   "execution_count": 5,
   "metadata": {},
   "outputs": [],
   "source": [
    "with open('../data/auto3_new_data.npy', 'rb') as f:\n",
    "    train_auto = np.load(f)\n",
    "    y_auto = np.load(f)\n",
    "    test_auto = np.load(f)\n"
   ]
  },
  {
   "cell_type": "code",
   "execution_count": 5,
   "metadata": {},
   "outputs": [],
   "source": [
    "with open('../data/noise0_data.npy', 'rb') as f:\n",
    "    train_auto = np.load(f)\n",
    "    y_auto = np.load(f)\n",
    "    test_auto = np.load(f)\n"
   ]
  },
  {
   "cell_type": "code",
   "execution_count": 24,
   "metadata": {},
   "outputs": [],
   "source": [
    "with open('../data/noise0_gen_data.npy', 'rb') as f:\n",
    "    train_auto = np.load(f)\n",
    "    y_auto = np.load(f)\n",
    "    test_auto = np.load(f)\n"
   ]
  },
  {
   "cell_type": "code",
   "execution_count": 38,
   "metadata": {},
   "outputs": [],
   "source": [
    "with open('../data/noise0_deskew_data.npy', 'rb') as f:\n",
    "    train_auto = np.load(f)\n",
    "    y_auto = np.load(f)\n",
    "    test_auto = np.load(f)\n"
   ]
  },
  {
   "cell_type": "code",
   "execution_count": 39,
   "metadata": {
    "ExecuteTime": {
     "end_time": "2020-09-08T03:44:22.784712Z",
     "start_time": "2020-09-08T03:44:22.782296Z"
    },
    "scrolled": true
   },
   "outputs": [
    {
     "name": "stdout",
     "output_type": "stream",
     "text": [
      "(10240, 28, 28, 1)\n",
      "(10240, 10)\n",
      "(20480, 28, 28, 1)\n"
     ]
    }
   ],
   "source": [
    "print(train_auto.shape)\n",
    "print(y_auto.shape)\n",
    "print(test_auto.shape)\n"
   ]
  },
  {
   "cell_type": "code",
   "execution_count": 40,
   "metadata": {
    "ExecuteTime": {
     "end_time": "2020-09-08T03:44:23.106881Z",
     "start_time": "2020-09-08T03:44:23.024696Z"
    }
   },
   "outputs": [],
   "source": [
    "# X_trains = X_trains.astype('float32')\n",
    "# X_letter = X_letter.astype('float32')\n",
    "# TEST_letter = TEST_letter.astype('float32')\n",
    "# TEST = TEST.astype('float32')"
   ]
  },
  {
   "cell_type": "code",
   "execution_count": 41,
   "metadata": {},
   "outputs": [],
   "source": [
    "# X_trains = X_trains/255.\n",
    "# TEST = TEST/255."
   ]
  },
  {
   "cell_type": "markdown",
   "metadata": {},
   "source": [
    "### Your Model"
   ]
  },
  {
   "cell_type": "markdown",
   "metadata": {},
   "source": [
    "주석 처리된 것처럼 함수형태로 만들어야 합니다."
   ]
  },
  {
   "cell_type": "markdown",
   "metadata": {},
   "source": [
    "### RexNet"
   ]
  },
  {
   "cell_type": "code",
   "execution_count": 42,
   "metadata": {
    "ExecuteTime": {
     "end_time": "2020-09-08T03:44:29.375636Z",
     "start_time": "2020-09-08T03:44:29.318003Z"
    }
   },
   "outputs": [],
   "source": [
    "reduction_ratio=16\n",
    "\n",
    "def rexnet_model(shape):\n",
    "    inputs = Input(shape=(28,28,1))\n",
    "#     letter = Input(shape=(26))\n",
    "    \n",
    "#     letter_dense1 = tf.keras.layers.Dense(32, activation='relu', kernel_initializer='he_normal')(letter)\n",
    "#     batchs = tf.keras.layers.BatchNormalization()(letter_dense1)\n",
    "#     letter_dense2 = tf.keras.layers.Dense(32, activation='relu', kernel_initializer='he_normal')(batchs)\n",
    "\n",
    "    conv1 = tf.keras.layers.Conv2D(filters=128, kernel_size=(5,5), kernel_initializer='he_normal', activation='elu', padding='same',\n",
    "                              kernel_constraint=tf.keras.constraints.max_norm(3.))(inputs) #28x28x128\n",
    "\n",
    "\n",
    "    ## Residual Unit1\n",
    "    batch1_1 = tf.keras.layers.BatchNormalization()(conv1)\n",
    "    elu1_1 = tf.keras.layers.ELU()(batch1_1)\n",
    "    res1_1 = tf.keras.layers.Conv2D(filters=32, kernel_size=(1,1), padding='same',kernel_constraint=tf.keras.constraints.max_norm(3.))(elu1_1) \n",
    "    batch1_2 = tf.keras.layers.BatchNormalization()(res1_1)\n",
    "    elu1_2 = tf.keras.layers.ELU()(batch1_2)\n",
    "    res1_2 = tf.keras.layers.Conv2D(filters=32, kernel_size=(3,3), padding='same',kernel_constraint=tf.keras.constraints.max_norm(3.))(elu1_2) \n",
    "    batch1_3 = tf.keras.layers.BatchNormalization()(res1_2)\n",
    "    elu1_3 = tf.keras.layers.ELU()(batch1_3)\n",
    "    res1_3 = tf.keras.layers.Conv2D(filters=128, kernel_size=(1,1), padding='same',kernel_constraint=tf.keras.constraints.max_norm(3.))(elu1_3)                          \n",
    "\n",
    "    # SEBlock1\n",
    "    ch_input1 = 128\n",
    "    ch_reduced1 = ch_input1//reduction_ratio\n",
    "    avpool1 = tf.keras.layers.GlobalAveragePooling2D()(res1_3)\n",
    "    sed1_1 = tf.keras.layers.Dense(ch_reduced1, kernel_initializer='he_normal', activation='elu', use_bias=False)(avpool1)\n",
    "    sed1_2 = tf.keras.layers.Dense(ch_input1, kernel_initializer='he_normal', activation='sigmoid', use_bias=False)(sed1_1)\n",
    "    reshape1 = tf.keras.layers.Reshape((1,1,ch_input1))(sed1_2)\n",
    "    mul1 = tf.keras.layers.Multiply()([res1_3, reshape1])\n",
    "    #\n",
    "\n",
    "    skip1 = tf.keras.layers.Conv2D(filters=128, kernel_size=(1,1), padding='same')(conv1)\n",
    "    res1 = tf.keras.layers.Add()([mul1, skip1]) #28x28x128\n",
    "    ##\n",
    "\n",
    "    ## Residual Unit2\n",
    "    batch2_1 = tf.keras.layers.BatchNormalization()(res1)\n",
    "    elu2_1 = tf.keras.layers.ELU()(batch2_1)\n",
    "    res2_1 = tf.keras.layers.Conv2D(filters=32, kernel_size=(1,1), padding='same',kernel_constraint=tf.keras.constraints.max_norm(3.))(elu2_1) \n",
    "    batch2_2 = tf.keras.layers.BatchNormalization()(res2_1)\n",
    "    elu2_2 = tf.keras.layers.ELU()(batch2_2)\n",
    "    res2_2 = tf.keras.layers.Conv2D(filters=32, kernel_size=(3,3), padding='same',kernel_constraint=tf.keras.constraints.max_norm(3.))(elu2_2) \n",
    "    batch2_3 = tf.keras.layers.BatchNormalization()(res2_2)\n",
    "    elu2_3 = tf.keras.layers.ELU()(batch2_3)\n",
    "    res2_3 = tf.keras.layers.Conv2D(filters=128, kernel_size=(1,1), padding='same',kernel_constraint=tf.keras.constraints.max_norm(3.))(elu2_3)                         \n",
    "\n",
    "\n",
    "    # SEBlock2\n",
    "    ch_input2 = 128\n",
    "    ch_reduced2 = ch_input2//reduction_ratio\n",
    "    avpool2 = tf.keras.layers.GlobalAveragePooling2D()(res2_3)\n",
    "    sed2_1 = tf.keras.layers.Dense(ch_reduced2, kernel_initializer='he_normal', activation='elu', use_bias=False)(avpool2)\n",
    "    sed2_2 = tf.keras.layers.Dense(ch_input2, kernel_initializer='he_normal', activation='sigmoid', use_bias=False)(sed2_1)\n",
    "    reshape2 = tf.keras.layers.Reshape((1,1,ch_input2))(sed2_2)\n",
    "    mul2 = tf.keras.layers.Multiply()([res2_3, reshape2])\n",
    "    #\n",
    "    skip2 = tf.keras.layers.Conv2D(filters=128, kernel_size=(1,1), padding='same')(res1)\n",
    "    res2 = tf.keras.layers.Add()([mul2, skip2])\n",
    "    drop2 = tf.keras.layers.Dropout(0.3)(res2) # 28x28x128\n",
    "    ##\n",
    "\n",
    "\n",
    "    ## Residual Unit3\n",
    "    batch3_1 = tf.keras.layers.BatchNormalization()(drop2)\n",
    "    elu3_1 = tf.keras.layers.ELU()(batch3_1)\n",
    "    res3_1 = tf.keras.layers.Conv2D(filters=64, kernel_size=(1,1), padding='same',kernel_constraint=tf.keras.constraints.max_norm(3.))(elu3_1) \n",
    "    batch3_2 = tf.keras.layers.BatchNormalization()(res3_1)\n",
    "    elu3_2 = tf.keras.layers.ELU()(batch3_2)\n",
    "    res3_2 = tf.keras.layers.Conv2D(filters=64, kernel_size=(3,3), padding='same',kernel_constraint=tf.keras.constraints.max_norm(3.))(elu3_2) \n",
    "    batch3_3 = tf.keras.layers.BatchNormalization()(res3_2)\n",
    "    elu3_3 = tf.keras.layers.ELU()(batch3_3)\n",
    "    res3_3 = tf.keras.layers.Conv2D(filters=128, kernel_size=(1,1), padding='same',kernel_constraint=tf.keras.constraints.max_norm(3.))(elu3_3)                           \n",
    "\n",
    "\n",
    "    # SEBlock3\n",
    "    ch_input3 = 128\n",
    "    ch_reduced3 = ch_input3//reduction_ratio\n",
    "    avpool3 = tf.keras.layers.GlobalAveragePooling2D()(res3_3)\n",
    "    sed3_1 = tf.keras.layers.Dense(ch_reduced3, kernel_initializer='he_normal', activation='elu', use_bias=False)(avpool3)\n",
    "    sed3_2 = tf.keras.layers.Dense(ch_input3, kernel_initializer='he_normal', activation='sigmoid', use_bias=False)(sed3_1)\n",
    "    reshape3 = tf.keras.layers.Reshape((1,1,ch_input3))(sed3_2)\n",
    "    mul3 = tf.keras.layers.Multiply()([res3_3, reshape3])\n",
    "    #\n",
    "    skip3 = tf.keras.layers.Conv2D(filters=128, kernel_size=(1,1),padding='same')(drop2)\n",
    "    res3 = tf.keras.layers.Add()([mul3, skip3]) #28x28x128\n",
    "    ##\n",
    "\n",
    "\n",
    "    ## Residual Unit4\n",
    "    batch4_1 = tf.keras.layers.BatchNormalization()(res3)\n",
    "    elu4_1 = tf.keras.layers.ELU()(batch4_1)\n",
    "    res4_1 = tf.keras.layers.Conv2D(filters=64, kernel_size=(1,1), padding='same',kernel_constraint=tf.keras.constraints.max_norm(3.))(elu4_1) \n",
    "    batch4_2 = tf.keras.layers.BatchNormalization()(res4_1)\n",
    "    elu4_2 = tf.keras.layers.ELU()(batch4_2)\n",
    "    res4_2 = tf.keras.layers.Conv2D(filters=64, kernel_size=(3,3), padding='same',kernel_constraint=tf.keras.constraints.max_norm(3.))(elu4_2) \n",
    "    batch4_3 = tf.keras.layers.BatchNormalization()(res4_2)\n",
    "    elu4_3 = tf.keras.layers.ELU()(batch4_3)\n",
    "    res4_3 = tf.keras.layers.Conv2D(filters=256, kernel_size=(1,1), padding='same',kernel_constraint=tf.keras.constraints.max_norm(3.))(elu4_3)                              \n",
    "\n",
    "\n",
    "    # SEBlock4\n",
    "    ch_input4 = 256\n",
    "    ch_reduced4 = ch_input4//reduction_ratio\n",
    "    avpool4 = tf.keras.layers.GlobalAveragePooling2D()(res4_3)\n",
    "    sed4_1 = tf.keras.layers.Dense(ch_reduced4, kernel_initializer='he_normal', activation='elu', use_bias=False)(avpool4)\n",
    "    sed4_2 = tf.keras.layers.Dense(ch_input4, kernel_initializer='he_normal', activation='sigmoid', use_bias=False)(sed4_1)\n",
    "    reshape4 = tf.keras.layers.Reshape((1,1,ch_input4))(sed4_2)\n",
    "    mul4 = tf.keras.layers.Multiply()([res4_3, reshape4])\n",
    "    #\n",
    "    skip4 = tf.keras.layers.Conv2D(filters=256, kernel_size=(1,1),padding='same')(res3)\n",
    "    res4 = tf.keras.layers.Add()([mul4, skip4])\n",
    "    pool4 = tf.keras.layers.MaxPool2D((2,2))(res4)\n",
    "    drop4 = tf.keras.layers.Dropout(0.3)(pool4) # 14x14x256\n",
    "    ##\n",
    "\n",
    "\n",
    "    ## Residual Unit5\n",
    "    batch5_1 = tf.keras.layers.BatchNormalization()(drop4)\n",
    "    elu5_1 = tf.keras.layers.ELU()(batch5_1)\n",
    "    res5_1 = tf.keras.layers.Conv2D(filters=64, kernel_size=(1,1), padding='same',kernel_constraint=tf.keras.constraints.max_norm(3.))(elu5_1) \n",
    "    batch5_2 = tf.keras.layers.BatchNormalization()(res5_1)\n",
    "    elu5_2 = tf.keras.layers.ELU()(batch5_2)\n",
    "    res5_2 = tf.keras.layers.Conv2D(filters=64, kernel_size=(3,3), padding='same',kernel_constraint=tf.keras.constraints.max_norm(3.))(elu5_2) \n",
    "    batch5_3 = tf.keras.layers.BatchNormalization()(res5_2)\n",
    "    elu5_3 = tf.keras.layers.ELU()(batch5_3)\n",
    "    res5_3 = tf.keras.layers.Conv2D(filters=256, kernel_size=(1,1), padding='same',kernel_constraint=tf.keras.constraints.max_norm(3.))(elu5_3)                                 \n",
    "\n",
    "\n",
    "    # SEBlock5\n",
    "    ch_input5 = 256\n",
    "    ch_reduced5 = ch_input5//reduction_ratio\n",
    "    avpool5 = tf.keras.layers.GlobalAveragePooling2D()(res5_3)\n",
    "    sed5_1 = tf.keras.layers.Dense(ch_reduced5, kernel_initializer='he_normal', activation='elu', use_bias=False)(avpool5)\n",
    "    sed5_2 = tf.keras.layers.Dense(ch_input5, kernel_initializer='he_normal', activation='sigmoid', use_bias=False)(sed5_1)\n",
    "    reshape5 = tf.keras.layers.Reshape((1,1,ch_input5))(sed5_2)\n",
    "    mul5 = tf.keras.layers.Multiply()([res5_3, reshape5])\n",
    "    #\n",
    "    skip5 = tf.keras.layers.Conv2D(filters=256, kernel_size=(1,1),padding='same')(drop4)\n",
    "    res5 = tf.keras.layers.Add()([mul5, skip5])\n",
    "    pool5 = tf.keras.layers.MaxPool2D((2,2))(res5) #7x7x256\n",
    "    ##\n",
    "\n",
    "\n",
    "    ## Residual Unit6\n",
    "    batch6_1 = tf.keras.layers.BatchNormalization()(pool5)\n",
    "    elu6_1 = tf.keras.layers.ELU()(batch6_1)\n",
    "    res6_1 = tf.keras.layers.Conv2D(filters=64, kernel_size=(1,1), padding='same',kernel_constraint=tf.keras.constraints.max_norm(3.))(elu6_1) \n",
    "    batch6_2 = tf.keras.layers.BatchNormalization()(res6_1)\n",
    "    elu6_2 = tf.keras.layers.ELU()(batch6_2)\n",
    "    res6_2 = tf.keras.layers.Conv2D(filters=64, kernel_size=(3,3), padding='same',kernel_constraint=tf.keras.constraints.max_norm(3.))(elu6_2) \n",
    "    batch6_3 = tf.keras.layers.BatchNormalization()(res6_2)\n",
    "    elu6_3 = tf.keras.layers.ELU()(batch6_3)\n",
    "    res6_3 = tf.keras.layers.Conv2D(filters=256, kernel_size=(1,1), padding='same',kernel_constraint=tf.keras.constraints.max_norm(3.))(elu6_3)\n",
    "    # SEBlock6\n",
    "    ch_input6 = 256\n",
    "    ch_reduced6 = ch_input6//reduction_ratio\n",
    "    avpool6 = tf.keras.layers.GlobalAveragePooling2D()(res6_3)\n",
    "    sed6_1 = tf.keras.layers.Dense(ch_reduced6, kernel_initializer='he_normal', activation='elu', use_bias=False)(avpool6)\n",
    "    sed6_2 = tf.keras.layers.Dense(ch_input6, kernel_initializer='he_normal', activation='sigmoid', use_bias=False)(sed6_1)\n",
    "    reshape6 = tf.keras.layers.Reshape((1,1,ch_input6))(sed6_2)\n",
    "    mul6 = tf.keras.layers.Multiply()([res6_3, reshape6])\n",
    "    #\n",
    "    skip6 = tf.keras.layers.Conv2D(filters=256, kernel_size=(1,1),padding='same')(pool5)\n",
    "    res6 = tf.keras.layers.Add()([mul6, skip6])\n",
    "    drop6 = tf.keras.layers.Dropout(0.3)(res6) # 7x7x256\n",
    "    ##\n",
    "\n",
    "    ## Residual Unit7\n",
    "    batch7_1 = tf.keras.layers.BatchNormalization()(drop6)\n",
    "    elu7_1 = tf.keras.layers.ELU()(batch7_1)\n",
    "    res7_1 = tf.keras.layers.Conv2D(filters=64, kernel_size=(1,1), padding='same',kernel_constraint=tf.keras.constraints.max_norm(3.))(elu7_1) \n",
    "    batch7_2 = tf.keras.layers.BatchNormalization()(res7_1)\n",
    "    elu7_2 = tf.keras.layers.ELU()(batch7_2)\n",
    "    res7_2 = tf.keras.layers.Conv2D(filters=64, kernel_size=(3,3), padding='same',kernel_constraint=tf.keras.constraints.max_norm(3.))(elu7_2) \n",
    "    batch7_3 = tf.keras.layers.BatchNormalization()(res7_2)\n",
    "    elu7_3 = tf.keras.layers.ELU()(batch7_3)\n",
    "    res7_3 = tf.keras.layers.Conv2D(filters=512, kernel_size=(1,1), padding='same',kernel_constraint=tf.keras.constraints.max_norm(3.))(elu7_3)\n",
    "    skip7 = tf.keras.layers.Conv2D(filters=512, kernel_size=(1,1),padding='same')(drop6)\n",
    "    res7 = tf.keras.layers.Add()([res7_3, skip7])\n",
    "    pool7 = tf.keras.layers.MaxPool2D((3,3))(res7) \n",
    "    \n",
    "    flatten1 = tf.keras.layers.Flatten()(pool7)\n",
    "#     gmp = tf.keras.layers.GlobalAveragePooling2D()(pool7)\n",
    "#     con = tf.keras.layers.concatenate([gmp, letter_dense2],axis=1)\n",
    "    \n",
    "    dense1 = tf.keras.layers.Dense(1024, activation='elu', kernel_initializer='he_normal', kernel_constraint=tf.keras.constraints.max_norm(3.))(flatten1)\n",
    "    \n",
    "    drop1 = tf.keras.layers.Dropout(0.5)(dense1)\n",
    "    outputs = tf.keras.layers.Dense(10 ,activation='softmax')(drop1)\n",
    "    model = Model(inputs=inputs, outputs=outputs)\n",
    "\n",
    "    return model"
   ]
  },
  {
   "cell_type": "markdown",
   "metadata": {},
   "source": [
    "### DenseNet"
   ]
  },
  {
   "cell_type": "code",
   "execution_count": 43,
   "metadata": {},
   "outputs": [],
   "source": [
    "layers_in_block = {'DenseNet-121':[6, 12, 24, 16],\n",
    "                   'DenseNet-169':[6, 12, 32, 32],\n",
    "                   'DenseNet-201':[6, 12, 48, 32],\n",
    "                   'DenseNet-265':[6, 12, 64, 48],\n",
    "                   'myDenseNet':[8, 12, 16, 32]}\n",
    "\n",
    "base_growth_rate = 32\n",
    "\n",
    "def Conv_block(x, growth_rate, activation='relu'):\n",
    "    x_l = BatchNormalization()(x)\n",
    "    x_l = Activation(activation)(x_l)\n",
    "    x_l = Conv2D(growth_rate*4, (1,1), padding='same', kernel_initializer='he_normal')(x_l)\n",
    "    \n",
    "    x_l = BatchNormalization()(x_l)\n",
    "    x_l = Activation(activation)(x_l)\n",
    "    x_l = Conv2D(growth_rate, (3,3), padding='same', kernel_initializer='he_normal')(x_l)\n",
    "    \n",
    "    x = concatenate([x, x_l])\n",
    "    return x\n",
    "\n",
    "def Dense_block(x, layers, growth_rate=32):\n",
    "    for i in range(layers):\n",
    "        x = Conv_block(x, growth_rate)\n",
    "    return x\n",
    "\n",
    "def Transition_layer(x, compression_factor=0.5, activation='relu'):\n",
    "    reduced_filters = int(tf.keras.backend.int_shape(x)[-1] * compression_factor)\n",
    "    \n",
    "    x = BatchNormalization()(x)\n",
    "    x = Activation(activation)(x)\n",
    "    x = Conv2D(reduced_filters, (1,1), padding='same', kernel_initializer='he_normal')(x)\n",
    "    \n",
    "    x = AveragePooling2D((2,2), padding='same', strides=2)(x)\n",
    "    return x"
   ]
  },
  {
   "cell_type": "markdown",
   "metadata": {},
   "source": [
    "#### DenseNet-121"
   ]
  },
  {
   "cell_type": "code",
   "execution_count": 44,
   "metadata": {},
   "outputs": [],
   "source": [
    "def DenseNet_121(shape, densenet_type='DenseNet-121'):\n",
    "    model_input = Input(shape=(28,28,1))\n",
    "    x = Conv2D(base_growth_rate*2, (5,5), padding='same', strides=1,\n",
    "               kernel_initializer='he_normal')(model_input)\n",
    "    x = BatchNormalization()(x)\n",
    "    x = Activation('relu')(x)\n",
    "    \n",
    "    x = MaxPooling2D((2,2), padding='same', strides=1)(x)\n",
    "    \n",
    "    x = Dense_block(x, layers_in_block[densenet_type][0], base_growth_rate)\n",
    "    x = Transition_layer(x, compression_factor=0.5)\n",
    "    x = Dense_block(x, layers_in_block[densenet_type][1], base_growth_rate)\n",
    "    x = Transition_layer(x, compression_factor=0.5)\n",
    "    x = Dense_block(x, layers_in_block[densenet_type][2], base_growth_rate)\n",
    "    #x = Transition_layer(x, compression_factor=0.5)\n",
    "    #x = Dense_block(x, layers_in_block[densenet_type][3], base_growth_rate)\n",
    "    \n",
    "    x = GlobalAveragePooling2D()(x)\n",
    "    \n",
    "    model_output = Dense(10, activation='softmax', kernel_initializer='he_normal')(x)\n",
    "    \n",
    "    model = Model(model_input, model_output)\n",
    "    \n",
    "    return model"
   ]
  },
  {
   "cell_type": "markdown",
   "metadata": {},
   "source": [
    "#### DenseNet-169"
   ]
  },
  {
   "cell_type": "code",
   "execution_count": 45,
   "metadata": {},
   "outputs": [],
   "source": [
    "def DenseNet_169(shape, densenet_type='DenseNet-169'):\n",
    "    model_input = Input(shape=(28,28,1))\n",
    "    x = Conv2D(base_growth_rate*2, (5,5), padding='same', strides=1,\n",
    "               kernel_initializer='he_normal')(model_input)\n",
    "    x = BatchNormalization()(x)\n",
    "    x = Activation('relu')(x)\n",
    "    \n",
    "    x = MaxPooling2D((2,2), padding='same', strides=1)(x)\n",
    "    \n",
    "    x = Dense_block(x, layers_in_block[densenet_type][0], base_growth_rate)\n",
    "    x = Transition_layer(x, compression_factor=0.5)\n",
    "    x = Dense_block(x, layers_in_block[densenet_type][1], base_growth_rate)\n",
    "    x = Transition_layer(x, compression_factor=0.5)\n",
    "    x = Dense_block(x, layers_in_block[densenet_type][2], base_growth_rate)\n",
    "    #x = Transition_layer(x, compression_factor=0.5)\n",
    "    #x = Dense_block(x, layers_in_block[densenet_type][3], base_growth_rate)\n",
    "    \n",
    "    x = GlobalAveragePooling2D()(x)\n",
    "    \n",
    "    model_output = Dense(10, activation='softmax', kernel_initializer='he_normal')(x)\n",
    "    \n",
    "    model = Model(model_input, model_output)\n",
    "    \n",
    "    return model"
   ]
  },
  {
   "cell_type": "markdown",
   "metadata": {},
   "source": [
    "#### DenseNet-201"
   ]
  },
  {
   "cell_type": "code",
   "execution_count": 46,
   "metadata": {},
   "outputs": [],
   "source": [
    "def DenseNet_201(shape, densenet_type='DenseNet-201'):\n",
    "    model_input = Input(shape=(28,28,1))\n",
    "    x = Conv2D(base_growth_rate*2, (5,5), padding='same', strides=1,\n",
    "               kernel_initializer='he_normal')(model_input)\n",
    "    x = BatchNormalization()(x)\n",
    "    x = Activation('relu')(x)\n",
    "    \n",
    "    x = MaxPooling2D((2,2), padding='same', strides=1)(x)\n",
    "    \n",
    "    x = Dense_block(x, layers_in_block[densenet_type][0], base_growth_rate)\n",
    "    x = Transition_layer(x, compression_factor=0.5)\n",
    "    x = Dense_block(x, layers_in_block[densenet_type][1], base_growth_rate)\n",
    "    x = Transition_layer(x, compression_factor=0.5)\n",
    "    x = Dense_block(x, layers_in_block[densenet_type][2], base_growth_rate)\n",
    "    #x = Transition_layer(x, compression_factor=0.5)\n",
    "    #x = Dense_block(x, layers_in_block[densenet_type][3], base_growth_rate)\n",
    "    \n",
    "    x = GlobalAveragePooling2D()(x)\n",
    "    \n",
    "    model_output = Dense(10, activation='softmax', kernel_initializer='he_normal')(x)\n",
    "    \n",
    "    model = Model(model_input, model_output)\n",
    "    \n",
    "    return model"
   ]
  },
  {
   "cell_type": "markdown",
   "metadata": {},
   "source": [
    "#### DenseNet-265"
   ]
  },
  {
   "cell_type": "code",
   "execution_count": 47,
   "metadata": {},
   "outputs": [],
   "source": [
    "def DenseNet_265(shape, densenet_type='DenseNet-265'):\n",
    "    model_input = Input(shape=(28,28,1))\n",
    "    x = Conv2D(base_growth_rate*2, (5,5), padding='same', strides=1,\n",
    "               kernel_initializer='he_normal')(model_input)\n",
    "    x = BatchNormalization()(x)\n",
    "    x = Activation('relu')(x)\n",
    "    \n",
    "    x = MaxPooling2D((2,2), padding='same', strides=1)(x)\n",
    "    \n",
    "    x = Dense_block(x, layers_in_block[densenet_type][0], base_growth_rate)\n",
    "    x = Transition_layer(x, compression_factor=0.5)\n",
    "    x = Dense_block(x, layers_in_block[densenet_type][1], base_growth_rate)\n",
    "    x = Transition_layer(x, compression_factor=0.5)\n",
    "    x = Dense_block(x, layers_in_block[densenet_type][2], base_growth_rate)\n",
    "    #x = Transition_layer(x, compression_factor=0.5)\n",
    "    #x = Dense_block(x, layers_in_block[densenet_type][3], base_growth_rate)\n",
    "    \n",
    "    x = GlobalAveragePooling2D()(x)\n",
    "    \n",
    "    model_output = Dense(10, activation='softmax', kernel_initializer='he_normal')(x)\n",
    "    \n",
    "    model = Model(model_input, model_output)\n",
    "    \n",
    "    return model"
   ]
  },
  {
   "cell_type": "code",
   "execution_count": 48,
   "metadata": {
    "ExecuteTime": {
     "end_time": "2020-09-08T03:44:30.560025Z",
     "start_time": "2020-09-08T03:44:30.551077Z"
    },
    "scrolled": true
   },
   "outputs": [],
   "source": [
    "def get_stacking(in_model, model_name, train, train_y, n_fold = 4, SEED=2020, epochs = 500, batch_size = 32, lr_=0.001, es_p = 100, rlp_p = 30, rlp_f = 0.7):\n",
    "    k_fold = KFold(n_splits=n_fold, shuffle=True, random_state=SEED)\n",
    "    \n",
    "    history = []\n",
    "    val_predict = []\n",
    "\n",
    "    train_fold_predict = np.zeros((train.shape[0], 1))\n",
    "    test_predict = []\n",
    "    arm_test_predict = np.array([0]*204800).reshape(20480, 10).astype('float64')\n",
    "    \n",
    "    for cnt, (train_idx, val_idx) in enumerate(k_fold.split(train, train_y)):\n",
    "        print(f'*******************number_{cnt+1}_kfold_model*******************')\n",
    "        x_train, y_train = train[train_idx], train_y[train_idx]\n",
    "        x_val, y_val = train[val_idx], train_y[val_idx]\n",
    "        \n",
    "        model = in_model(train.shape[1:])\n",
    "        model.compile(loss=\"categorical_crossentropy\",\n",
    "                      optimizer=Adam(lr=lr_, beta_1=0.9, beta_2=0.999, epsilon=1e-07), \n",
    "                      metrics=[\"accuracy\"])\n",
    "\n",
    "        es = EarlyStopping(patience=es_p, verbose=1,monitor = 'val_accuracy')\n",
    "        mc = ModelCheckpoint(f'../model/{in_model}_{model_name}_best_{cnt+1}.h5', save_best_only=True, verbose=1)\n",
    "        rlp = ReduceLROnPlateau(monitor='val_loss', patience=rlp_p, factor=rlp_f, min_lr=0.000001)\n",
    "        \n",
    "        history = model.fit(x_train, y_train,\n",
    "                            batch_size=batch_size,\n",
    "                            epochs=epochs,\n",
    "                            validation_data=(x_val, y_val),\n",
    "                            verbose=1,\n",
    "                            steps_per_epoch=x_train.shape[0] // batch_size,\n",
    "                            validation_steps=x_val.shape[0] // batch_size,\n",
    "                            callbacks=[es, mc, rlp]\n",
    "                            )\n",
    "        \n",
    "        \n",
    "        plot_curve(history.epoch, history.history, ['loss', 'val_loss', 'accuracy', 'val_accuracy'])\n",
    "        \n",
    "        \n",
    "        print(\"load model and predict\")\n",
    "        model.load_weights(f'../model/{in_model}_{model_name}_best_{cnt+1}.h5')\n",
    "        print(\"valid acc\")\n",
    "        x_val_acc = model.evaluate(x_val, y_val)\n",
    "        print(\"\\n\\n\\n\")\n",
    "        pred_train = model.predict(x_val)\n",
    "        pred_test = model.predict(test_auto)\n",
    "        \n",
    "        train_fold_predict[val_idx, :] = np.argmax(pred_train, 1).reshape((x_val.shape[0], 1))\n",
    "        \n",
    "        test_predict.append(pred_test)\n",
    "    \n",
    "    for pred_test in test_predict:\n",
    "        arm_test_predict += pred_test\n",
    "          \n",
    "    test_fold_predict = np.argmax(arm_test_predict, axis=1).reshape((test_auto.shape[0], 1))\n",
    "    train_fold_predict = train_fold_predict.astype('int64')\n",
    "    \n",
    "    return train_fold_predict, test_fold_predict"
   ]
  },
  {
   "cell_type": "markdown",
   "metadata": {},
   "source": [
    "## Predict"
   ]
  },
  {
   "cell_type": "markdown",
   "metadata": {},
   "source": [
    "### RexNet"
   ]
  },
  {
   "cell_type": "code",
   "execution_count": 49,
   "metadata": {},
   "outputs": [],
   "source": [
    "epochs = 15\n",
    "batch_size = 32\n",
    "n_fold = 4\n",
    "seed = 2020\n",
    "model_name = \"auto_deskew_RexNet0.7\" #저장할 모델이름\n",
    "learning_rate = 0.001\n",
    "EarlyStopping_patience = 5 # 얼마나 지켜보고 early stopping 할것인가\n",
    "ReduceLROnPlateau_patience=3 # 얼마나 지켜보고 learing rate 감소시킬 것인가\n",
    "ReduceLROnPlateau_factor=0.5 # 감소시키는 비율 learing rate := learing rate * factor"
   ]
  },
  {
   "cell_type": "code",
   "execution_count": 50,
   "metadata": {
    "scrolled": true
   },
   "outputs": [
    {
     "name": "stdout",
     "output_type": "stream",
     "text": [
      "*******************number_1_kfold_model*******************\n",
      "Epoch 1/15\n",
      "240/240 [==============================] - ETA: 0s - loss: 1.6891 - accuracy: 0.6685\n",
      "Epoch 00001: val_loss improved from inf to 1.47009, saving model to ../model/<function rexnet_model at 0x7fdac86f6b00>_auto_deskew_RexNet0.7_best_1.h5\n",
      "240/240 [==============================] - 10s 43ms/step - loss: 1.6891 - accuracy: 0.6685 - val_loss: 1.4701 - val_accuracy: 0.6770 - lr: 0.0010\n",
      "Epoch 2/15\n",
      "239/240 [============================>.] - ETA: 0s - loss: 0.4944 - accuracy: 0.8647\n",
      "Epoch 00002: val_loss improved from 1.47009 to 0.56850, saving model to ../model/<function rexnet_model at 0x7fdac86f6b00>_auto_deskew_RexNet0.7_best_1.h5\n",
      "240/240 [==============================] - 9s 37ms/step - loss: 0.4991 - accuracy: 0.8642 - val_loss: 0.5685 - val_accuracy: 0.8617 - lr: 0.0010\n",
      "Epoch 3/15\n",
      "239/240 [============================>.] - ETA: 0s - loss: 0.3835 - accuracy: 0.8950\n",
      "Epoch 00003: val_loss did not improve from 0.56850\n",
      "240/240 [==============================] - 9s 36ms/step - loss: 0.3835 - accuracy: 0.8949 - val_loss: 0.5838 - val_accuracy: 0.8488 - lr: 0.0010\n",
      "Epoch 4/15\n",
      "239/240 [============================>.] - ETA: 0s - loss: 0.3846 - accuracy: 0.8970\n",
      "Epoch 00004: val_loss improved from 0.56850 to 0.26650, saving model to ../model/<function rexnet_model at 0x7fdac86f6b00>_auto_deskew_RexNet0.7_best_1.h5\n",
      "240/240 [==============================] - 8s 35ms/step - loss: 0.3850 - accuracy: 0.8970 - val_loss: 0.2665 - val_accuracy: 0.9398 - lr: 0.0010\n",
      "Epoch 5/15\n",
      "240/240 [==============================] - ETA: 0s - loss: 0.3186 - accuracy: 0.9095\n",
      "Epoch 00005: val_loss did not improve from 0.26650\n",
      "240/240 [==============================] - 9s 36ms/step - loss: 0.3186 - accuracy: 0.9095 - val_loss: 0.4177 - val_accuracy: 0.9230 - lr: 0.0010\n",
      "Epoch 6/15\n",
      "240/240 [==============================] - ETA: 0s - loss: 0.3361 - accuracy: 0.9178\n",
      "Epoch 00006: val_loss did not improve from 0.26650\n",
      "240/240 [==============================] - 9s 37ms/step - loss: 0.3361 - accuracy: 0.9178 - val_loss: 0.4116 - val_accuracy: 0.9250 - lr: 0.0010\n",
      "Epoch 7/15\n",
      "239/240 [============================>.] - ETA: 0s - loss: 0.3078 - accuracy: 0.9161\n",
      "Epoch 00007: val_loss did not improve from 0.26650\n",
      "240/240 [==============================] - 8s 35ms/step - loss: 0.3082 - accuracy: 0.9160 - val_loss: 0.4349 - val_accuracy: 0.9371 - lr: 0.0010\n",
      "Epoch 8/15\n",
      "239/240 [============================>.] - ETA: 0s - loss: 0.1839 - accuracy: 0.9491\n",
      "Epoch 00008: val_loss improved from 0.26650 to 0.17184, saving model to ../model/<function rexnet_model at 0x7fdac86f6b00>_auto_deskew_RexNet0.7_best_1.h5\n",
      "240/240 [==============================] - 11s 44ms/step - loss: 0.1832 - accuracy: 0.9493 - val_loss: 0.1718 - val_accuracy: 0.9605 - lr: 5.0000e-04\n",
      "Epoch 9/15\n",
      "239/240 [============================>.] - ETA: 0s - loss: 0.1177 - accuracy: 0.9637\n",
      "Epoch 00009: val_loss improved from 0.17184 to 0.16090, saving model to ../model/<function rexnet_model at 0x7fdac86f6b00>_auto_deskew_RexNet0.7_best_1.h5\n",
      "240/240 [==============================] - 9s 39ms/step - loss: 0.1183 - accuracy: 0.9637 - val_loss: 0.1609 - val_accuracy: 0.9582 - lr: 5.0000e-04\n",
      "Epoch 10/15\n",
      "239/240 [============================>.] - ETA: 0s - loss: 0.1035 - accuracy: 0.9667\n",
      "Epoch 00010: val_loss did not improve from 0.16090\n",
      "240/240 [==============================] - 8s 34ms/step - loss: 0.1034 - accuracy: 0.9667 - val_loss: 0.2539 - val_accuracy: 0.9441 - lr: 5.0000e-04\n",
      "Epoch 11/15\n",
      "239/240 [============================>.] - ETA: 0s - loss: 0.1105 - accuracy: 0.9640\n",
      "Epoch 00011: val_loss did not improve from 0.16090\n",
      "240/240 [==============================] - 8s 33ms/step - loss: 0.1106 - accuracy: 0.9641 - val_loss: 0.1698 - val_accuracy: 0.9695 - lr: 5.0000e-04\n",
      "Epoch 12/15\n",
      "239/240 [============================>.] - ETA: 0s - loss: 0.0958 - accuracy: 0.9686\n",
      "Epoch 00012: val_loss improved from 0.16090 to 0.15555, saving model to ../model/<function rexnet_model at 0x7fdac86f6b00>_auto_deskew_RexNet0.7_best_1.h5\n",
      "240/240 [==============================] - 8s 34ms/step - loss: 0.0962 - accuracy: 0.9685 - val_loss: 0.1555 - val_accuracy: 0.9660 - lr: 5.0000e-04\n",
      "Epoch 13/15\n",
      "239/240 [============================>.] - ETA: 0s - loss: 0.1155 - accuracy: 0.9648\n",
      "Epoch 00013: val_loss did not improve from 0.15555\n",
      "240/240 [==============================] - 8s 33ms/step - loss: 0.1153 - accuracy: 0.9648 - val_loss: 0.1892 - val_accuracy: 0.9547 - lr: 5.0000e-04\n",
      "Epoch 14/15\n",
      "239/240 [============================>.] - ETA: 0s - loss: 0.0961 - accuracy: 0.9698\n",
      "Epoch 00014: val_loss did not improve from 0.15555\n",
      "240/240 [==============================] - 8s 33ms/step - loss: 0.0958 - accuracy: 0.9699 - val_loss: 0.1995 - val_accuracy: 0.9563 - lr: 5.0000e-04\n",
      "Epoch 15/15\n",
      "239/240 [============================>.] - ETA: 0s - loss: 0.1088 - accuracy: 0.9681\n",
      "Epoch 00015: val_loss did not improve from 0.15555\n",
      "240/240 [==============================] - 8s 34ms/step - loss: 0.1088 - accuracy: 0.9680 - val_loss: 0.2768 - val_accuracy: 0.9316 - lr: 5.0000e-04\n"
     ]
    },
    {
     "data": {
      "image/png": "[encoded data removed]",
      "text/plain": [
       "<Figure size 864x576 with 2 Axes>"
      ]
     },
     "metadata": {
      "needs_background": "light"
     },
     "output_type": "display_data"
    },
    {
     "name": "stdout",
     "output_type": "stream",
     "text": [
      "load model and predict\n",
      "valid acc\n",
      "80/80 [==============================] - 1s 9ms/step - loss: 0.1555 - accuracy: 0.9660\n",
      "\n",
      "\n",
      "\n",
      "\n",
      "*******************number_2_kfold_model*******************\n",
      "Epoch 1/15\n",
      "239/240 [============================>.] - ETA: 0s - loss: 1.5388 - accuracy: 0.6740\n",
      "Epoch 00001: val_loss improved from inf to 1.38202, saving model to ../model/<function rexnet_model at 0x7fdac86f6b00>_auto_deskew_RexNet0.7_best_2.h5\n",
      "240/240 [==============================] - 8s 35ms/step - loss: 1.5345 - accuracy: 0.6749 - val_loss: 1.3820 - val_accuracy: 0.6812 - lr: 0.0010\n",
      "Epoch 2/15\n",
      "239/240 [============================>.] - ETA: 0s - loss: 0.4779 - accuracy: 0.8742\n",
      "Epoch 00002: val_loss improved from 1.38202 to 0.92931, saving model to ../model/<function rexnet_model at 0x7fdac86f6b00>_auto_deskew_RexNet0.7_best_2.h5\n",
      "240/240 [==============================] - 8s 34ms/step - loss: 0.4809 - accuracy: 0.8737 - val_loss: 0.9293 - val_accuracy: 0.8105 - lr: 0.0010\n",
      "Epoch 3/15\n",
      "239/240 [============================>.] - ETA: 0s - loss: 0.4207 - accuracy: 0.8853\n",
      "Epoch 00003: val_loss improved from 0.92931 to 0.37216, saving model to ../model/<function rexnet_model at 0x7fdac86f6b00>_auto_deskew_RexNet0.7_best_2.h5\n",
      "240/240 [==============================] - 8s 34ms/step - loss: 0.4191 - accuracy: 0.8858 - val_loss: 0.3722 - val_accuracy: 0.8996 - lr: 0.0010\n",
      "Epoch 4/15\n",
      "239/240 [============================>.] - ETA: 0s - loss: 0.3128 - accuracy: 0.9141\n",
      "Epoch 00004: val_loss improved from 0.37216 to 0.30663, saving model to ../model/<function rexnet_model at 0x7fdac86f6b00>_auto_deskew_RexNet0.7_best_2.h5\n",
      "240/240 [==============================] - 8s 34ms/step - loss: 0.3122 - accuracy: 0.9143 - val_loss: 0.3066 - val_accuracy: 0.9285 - lr: 0.0010\n",
      "Epoch 5/15\n",
      "239/240 [============================>.] - ETA: 0s - loss: 0.3017 - accuracy: 0.9151\n",
      "Epoch 00005: val_loss did not improve from 0.30663\n",
      "240/240 [==============================] - 8s 34ms/step - loss: 0.3008 - accuracy: 0.9154 - val_loss: 1.1105 - val_accuracy: 0.8109 - lr: 0.0010\n",
      "Epoch 6/15\n",
      "239/240 [============================>.] - ETA: 0s - loss: 0.2657 - accuracy: 0.9274\n",
      "Epoch 00006: val_loss improved from 0.30663 to 0.22486, saving model to ../model/<function rexnet_model at 0x7fdac86f6b00>_auto_deskew_RexNet0.7_best_2.h5\n",
      "240/240 [==============================] - 8s 35ms/step - loss: 0.2652 - accuracy: 0.9276 - val_loss: 0.2249 - val_accuracy: 0.9508 - lr: 0.0010\n",
      "Epoch 7/15\n",
      "239/240 [============================>.] - ETA: 0s - loss: 0.3431 - accuracy: 0.9142\n",
      "Epoch 00007: val_loss did not improve from 0.22486\n",
      "240/240 [==============================] - 8s 34ms/step - loss: 0.3432 - accuracy: 0.9141 - val_loss: 0.2595 - val_accuracy: 0.9379 - lr: 0.0010\n",
      "Epoch 8/15\n",
      "239/240 [============================>.] - ETA: 0s - loss: 0.2699 - accuracy: 0.9314\n",
      "Epoch 00008: val_loss did not improve from 0.22486\n",
      "240/240 [==============================] - 8s 34ms/step - loss: 0.2708 - accuracy: 0.9311 - val_loss: 0.3138 - val_accuracy: 0.9164 - lr: 0.0010\n",
      "Epoch 9/15\n",
      "239/240 [============================>.] - ETA: 0s - loss: 0.2581 - accuracy: 0.9351\n",
      "Epoch 00009: val_loss did not improve from 0.22486\n",
      "240/240 [==============================] - 8s 35ms/step - loss: 0.2580 - accuracy: 0.9353 - val_loss: 0.2330 - val_accuracy: 0.9539 - lr: 0.0010\n",
      "Epoch 10/15\n",
      "239/240 [============================>.] - ETA: 0s - loss: 0.1399 - accuracy: 0.9603\n",
      "Epoch 00010: val_loss improved from 0.22486 to 0.12093, saving model to ../model/<function rexnet_model at 0x7fdac86f6b00>_auto_deskew_RexNet0.7_best_2.h5\n",
      "240/240 [==============================] - 8s 35ms/step - loss: 0.1399 - accuracy: 0.9603 - val_loss: 0.1209 - val_accuracy: 0.9645 - lr: 5.0000e-04\n",
      "Epoch 11/15\n",
      "239/240 [============================>.] - ETA: 0s - loss: 0.0996 - accuracy: 0.9680\n",
      "Epoch 00011: val_loss did not improve from 0.12093\n",
      "240/240 [==============================] - 8s 35ms/step - loss: 0.0996 - accuracy: 0.9678 - val_loss: 0.1449 - val_accuracy: 0.9574 - lr: 5.0000e-04\n",
      "Epoch 12/15\n",
      "239/240 [============================>.] - ETA: 0s - loss: 0.0831 - accuracy: 0.9725\n",
      "Epoch 00012: val_loss improved from 0.12093 to 0.11686, saving model to ../model/<function rexnet_model at 0x7fdac86f6b00>_auto_deskew_RexNet0.7_best_2.h5\n",
      "240/240 [==============================] - 8s 35ms/step - loss: 0.0830 - accuracy: 0.9725 - val_loss: 0.1169 - val_accuracy: 0.9684 - lr: 5.0000e-04\n",
      "Epoch 13/15\n",
      "239/240 [============================>.] - ETA: 0s - loss: 0.0755 - accuracy: 0.9778\n",
      "Epoch 00013: val_loss did not improve from 0.11686\n",
      "240/240 [==============================] - 8s 34ms/step - loss: 0.0755 - accuracy: 0.9777 - val_loss: 0.1201 - val_accuracy: 0.9680 - lr: 5.0000e-04\n",
      "Epoch 14/15\n",
      "239/240 [============================>.] - ETA: 0s - loss: 0.0912 - accuracy: 0.9712\n",
      "Epoch 00014: val_loss did not improve from 0.11686\n",
      "240/240 [==============================] - 8s 33ms/step - loss: 0.0909 - accuracy: 0.9714 - val_loss: 0.1753 - val_accuracy: 0.9586 - lr: 5.0000e-04\n",
      "Epoch 15/15\n",
      "239/240 [============================>.] - ETA: 0s - loss: 0.0932 - accuracy: 0.9704\n",
      "Epoch 00015: val_loss did not improve from 0.11686\n",
      "240/240 [==============================] - 8s 33ms/step - loss: 0.0928 - accuracy: 0.9706 - val_loss: 0.1529 - val_accuracy: 0.9566 - lr: 5.0000e-04\n"
     ]
    },
    {
     "data": {
      "image/png": "[encoded data removed]",
      "text/plain": [
       "<Figure size 864x576 with 2 Axes>"
      ]
     },
     "metadata": {
      "needs_background": "light"
     },
     "output_type": "display_data"
    },
    {
     "name": "stdout",
     "output_type": "stream",
     "text": [
      "load model and predict\n",
      "valid acc\n",
      "80/80 [==============================] - 1s 9ms/step - loss: 0.1169 - accuracy: 0.9684\n",
      "\n",
      "\n",
      "\n",
      "\n",
      "*******************number_3_kfold_model*******************\n",
      "Epoch 1/15\n",
      "239/240 [============================>.] - ETA: 0s - loss: 1.5315 - accuracy: 0.6772\n",
      "Epoch 00001: val_loss improved from inf to 2.70410, saving model to ../model/<function rexnet_model at 0x7fdac86f6b00>_auto_deskew_RexNet0.7_best_3.h5\n",
      "240/240 [==============================] - 10s 40ms/step - loss: 1.5280 - accuracy: 0.6775 - val_loss: 2.7041 - val_accuracy: 0.5078 - lr: 0.0010\n",
      "Epoch 2/15\n",
      "239/240 [============================>.] - ETA: 0s - loss: 0.4963 - accuracy: 0.8655\n",
      "Epoch 00002: val_loss improved from 2.70410 to 0.42675, saving model to ../model/<function rexnet_model at 0x7fdac86f6b00>_auto_deskew_RexNet0.7_best_3.h5\n",
      "240/240 [==============================] - 9s 37ms/step - loss: 0.4945 - accuracy: 0.8658 - val_loss: 0.4267 - val_accuracy: 0.8824 - lr: 0.0010\n",
      "Epoch 3/15\n",
      "239/240 [============================>.] - ETA: 0s - loss: 0.3916 - accuracy: 0.8985\n",
      "Epoch 00003: val_loss did not improve from 0.42675\n",
      "240/240 [==============================] - 9s 37ms/step - loss: 0.3956 - accuracy: 0.8977 - val_loss: 0.9230 - val_accuracy: 0.7602 - lr: 0.0010\n",
      "Epoch 4/15\n",
      "239/240 [============================>.] - ETA: 0s - loss: 0.4008 - accuracy: 0.8928\n",
      "Epoch 00004: val_loss improved from 0.42675 to 0.26115, saving model to ../model/<function rexnet_model at 0x7fdac86f6b00>_auto_deskew_RexNet0.7_best_3.h5\n",
      "240/240 [==============================] - 9s 39ms/step - loss: 0.3991 - accuracy: 0.8932 - val_loss: 0.2612 - val_accuracy: 0.9215 - lr: 0.0010\n",
      "Epoch 5/15\n",
      "239/240 [============================>.] - ETA: 0s - loss: 0.3319 - accuracy: 0.9104\n",
      "Epoch 00005: val_loss did not improve from 0.26115\n",
      "240/240 [==============================] - 9s 38ms/step - loss: 0.3316 - accuracy: 0.9103 - val_loss: 0.5103 - val_accuracy: 0.8949 - lr: 0.0010\n",
      "Epoch 6/15\n",
      "239/240 [============================>.] - ETA: 0s - loss: 0.3348 - accuracy: 0.9141\n",
      "Epoch 00006: val_loss did not improve from 0.26115\n",
      "240/240 [==============================] - 9s 37ms/step - loss: 0.3336 - accuracy: 0.9145 - val_loss: 0.3139 - val_accuracy: 0.9199 - lr: 0.0010\n",
      "Epoch 7/15\n",
      "239/240 [============================>.] - ETA: 0s - loss: 0.2874 - accuracy: 0.9213\n",
      "Epoch 00007: val_loss improved from 0.26115 to 0.21712, saving model to ../model/<function rexnet_model at 0x7fdac86f6b00>_auto_deskew_RexNet0.7_best_3.h5\n",
      "240/240 [==============================] - 9s 36ms/step - loss: 0.2873 - accuracy: 0.9212 - val_loss: 0.2171 - val_accuracy: 0.9398 - lr: 0.0010\n",
      "Epoch 8/15\n",
      "239/240 [============================>.] - ETA: 0s - loss: 0.2878 - accuracy: 0.9213\n",
      "Epoch 00008: val_loss did not improve from 0.21712\n",
      "240/240 [==============================] - 9s 37ms/step - loss: 0.2919 - accuracy: 0.9211 - val_loss: 1.9315 - val_accuracy: 0.7441 - lr: 0.0010\n",
      "Epoch 9/15\n",
      "239/240 [============================>.] - ETA: 0s - loss: 0.2660 - accuracy: 0.9295\n",
      "Epoch 00009: val_loss did not improve from 0.21712\n",
      "240/240 [==============================] - 9s 38ms/step - loss: 0.2657 - accuracy: 0.9296 - val_loss: 0.3367 - val_accuracy: 0.9336 - lr: 0.0010\n",
      "Epoch 10/15\n",
      "239/240 [============================>.] - ETA: 0s - loss: 0.2612 - accuracy: 0.9341\n",
      "Epoch 00010: val_loss did not improve from 0.21712\n",
      "240/240 [==============================] - 9s 37ms/step - loss: 0.2612 - accuracy: 0.9339 - val_loss: 0.2526 - val_accuracy: 0.9469 - lr: 0.0010\n",
      "Epoch 11/15\n",
      "239/240 [============================>.] - ETA: 0s - loss: 0.1328 - accuracy: 0.9621\n",
      "Epoch 00011: val_loss improved from 0.21712 to 0.17931, saving model to ../model/<function rexnet_model at 0x7fdac86f6b00>_auto_deskew_RexNet0.7_best_3.h5\n",
      "240/240 [==============================] - 11s 46ms/step - loss: 0.1323 - accuracy: 0.9622 - val_loss: 0.1793 - val_accuracy: 0.9578 - lr: 5.0000e-04\n",
      "Epoch 12/15\n",
      "239/240 [============================>.] - ETA: 0s - loss: 0.0970 - accuracy: 0.9697\n",
      "Epoch 00012: val_loss improved from 0.17931 to 0.12292, saving model to ../model/<function rexnet_model at 0x7fdac86f6b00>_auto_deskew_RexNet0.7_best_3.h5\n",
      "240/240 [==============================] - 9s 39ms/step - loss: 0.0967 - accuracy: 0.9698 - val_loss: 0.1229 - val_accuracy: 0.9633 - lr: 5.0000e-04\n",
      "Epoch 13/15\n",
      "239/240 [============================>.] - ETA: 0s - loss: 0.0868 - accuracy: 0.9746\n",
      "Epoch 00013: val_loss improved from 0.12292 to 0.12270, saving model to ../model/<function rexnet_model at 0x7fdac86f6b00>_auto_deskew_RexNet0.7_best_3.h5\n",
      "240/240 [==============================] - 9s 35ms/step - loss: 0.0872 - accuracy: 0.9745 - val_loss: 0.1227 - val_accuracy: 0.9648 - lr: 5.0000e-04\n",
      "Epoch 14/15\n",
      "239/240 [============================>.] - ETA: 0s - loss: 0.0816 - accuracy: 0.9746\n",
      "Epoch 00014: val_loss did not improve from 0.12270\n",
      "240/240 [==============================] - 8s 34ms/step - loss: 0.0813 - accuracy: 0.9747 - val_loss: 0.1907 - val_accuracy: 0.9570 - lr: 5.0000e-04\n",
      "Epoch 15/15\n",
      "239/240 [============================>.] - ETA: 0s - loss: 0.1049 - accuracy: 0.9685\n",
      "Epoch 00015: val_loss did not improve from 0.12270\n",
      "240/240 [==============================] - 8s 34ms/step - loss: 0.1044 - accuracy: 0.9686 - val_loss: 0.1458 - val_accuracy: 0.9727 - lr: 5.0000e-04\n"
     ]
    },
    {
     "data": {
      "image/png": "[encoded data removed]",
      "text/plain": [
       "<Figure size 864x576 with 2 Axes>"
      ]
     },
     "metadata": {
      "needs_background": "light"
     },
     "output_type": "display_data"
    },
    {
     "name": "stdout",
     "output_type": "stream",
     "text": [
      "load model and predict\n",
      "valid acc\n",
      "80/80 [==============================] - 1s 9ms/step - loss: 0.1227 - accuracy: 0.9648\n",
      "\n",
      "\n",
      "\n",
      "\n",
      "*******************number_4_kfold_model*******************\n",
      "Epoch 1/15\n",
      "239/240 [============================>.] - ETA: 0s - loss: 1.6528 - accuracy: 0.6628\n",
      "Epoch 00001: val_loss improved from inf to 3.05978, saving model to ../model/<function rexnet_model at 0x7fdac86f6b00>_auto_deskew_RexNet0.7_best_4.h5\n",
      "240/240 [==============================] - 9s 37ms/step - loss: 1.6500 - accuracy: 0.6634 - val_loss: 3.0598 - val_accuracy: 0.4934 - lr: 0.0010\n",
      "Epoch 2/15\n",
      "239/240 [============================>.] - ETA: 0s - loss: 0.4990 - accuracy: 0.8632\n",
      "Epoch 00002: val_loss improved from 3.05978 to 1.01701, saving model to ../model/<function rexnet_model at 0x7fdac86f6b00>_auto_deskew_RexNet0.7_best_4.h5\n",
      "240/240 [==============================] - 9s 36ms/step - loss: 0.4971 - accuracy: 0.8638 - val_loss: 1.0170 - val_accuracy: 0.7914 - lr: 0.0010\n",
      "Epoch 3/15\n",
      "239/240 [============================>.] - ETA: 0s - loss: 0.3938 - accuracy: 0.8916\n",
      "Epoch 00003: val_loss improved from 1.01701 to 0.29018, saving model to ../model/<function rexnet_model at 0x7fdac86f6b00>_auto_deskew_RexNet0.7_best_4.h5\n",
      "240/240 [==============================] - 9s 36ms/step - loss: 0.3932 - accuracy: 0.8917 - val_loss: 0.2902 - val_accuracy: 0.9312 - lr: 0.0010\n",
      "Epoch 4/15\n",
      "239/240 [============================>.] - ETA: 0s - loss: 0.3093 - accuracy: 0.9151\n",
      "Epoch 00004: val_loss did not improve from 0.29018\n",
      "240/240 [==============================] - 9s 36ms/step - loss: 0.3085 - accuracy: 0.9154 - val_loss: 0.4486 - val_accuracy: 0.8969 - lr: 0.0010\n",
      "Epoch 5/15\n",
      "239/240 [============================>.] - ETA: 0s - loss: 0.3694 - accuracy: 0.9034\n",
      "Epoch 00005: val_loss did not improve from 0.29018\n",
      "240/240 [==============================] - 9s 36ms/step - loss: 0.3688 - accuracy: 0.9034 - val_loss: 0.7517 - val_accuracy: 0.8723 - lr: 0.0010\n",
      "Epoch 6/15\n",
      "239/240 [============================>.] - ETA: 0s - loss: 0.3133 - accuracy: 0.9171\n",
      "Epoch 00006: val_loss did not improve from 0.29018\n",
      "240/240 [==============================] - 9s 37ms/step - loss: 0.3129 - accuracy: 0.9172 - val_loss: 0.6049 - val_accuracy: 0.8895 - lr: 0.0010\n",
      "Epoch 7/15\n",
      "239/240 [============================>.] - ETA: 0s - loss: 0.1653 - accuracy: 0.9524\n",
      "Epoch 00007: val_loss improved from 0.29018 to 0.21024, saving model to ../model/<function rexnet_model at 0x7fdac86f6b00>_auto_deskew_RexNet0.7_best_4.h5\n",
      "240/240 [==============================] - 9s 36ms/step - loss: 0.1670 - accuracy: 0.9522 - val_loss: 0.2102 - val_accuracy: 0.9410 - lr: 5.0000e-04\n",
      "Epoch 8/15\n",
      "239/240 [============================>.] - ETA: 0s - loss: 0.1261 - accuracy: 0.9635\n",
      "Epoch 00008: val_loss improved from 0.21024 to 0.16356, saving model to ../model/<function rexnet_model at 0x7fdac86f6b00>_auto_deskew_RexNet0.7_best_4.h5\n",
      "240/240 [==============================] - 9s 36ms/step - loss: 0.1257 - accuracy: 0.9637 - val_loss: 0.1636 - val_accuracy: 0.9594 - lr: 5.0000e-04\n",
      "Epoch 9/15\n",
      "239/240 [============================>.] - ETA: 0s - loss: 0.1069 - accuracy: 0.9674\n",
      "Epoch 00009: val_loss did not improve from 0.16356\n",
      "240/240 [==============================] - 9s 36ms/step - loss: 0.1074 - accuracy: 0.9673 - val_loss: 0.2011 - val_accuracy: 0.9563 - lr: 5.0000e-04\n",
      "Epoch 10/15\n",
      "239/240 [============================>.] - ETA: 0s - loss: 0.1150 - accuracy: 0.9637\n",
      "Epoch 00010: val_loss did not improve from 0.16356\n",
      "240/240 [==============================] - 9s 38ms/step - loss: 0.1147 - accuracy: 0.9637 - val_loss: 0.2724 - val_accuracy: 0.9367 - lr: 5.0000e-04\n",
      "Epoch 11/15\n",
      "239/240 [============================>.] - ETA: 0s - loss: 0.1286 - accuracy: 0.9600\n",
      "Epoch 00011: val_loss did not improve from 0.16356\n",
      "240/240 [==============================] - 11s 45ms/step - loss: 0.1293 - accuracy: 0.9596 - val_loss: 0.2560 - val_accuracy: 0.9477 - lr: 5.0000e-04\n",
      "Epoch 12/15\n",
      "239/240 [============================>.] - ETA: 0s - loss: 0.0679 - accuracy: 0.9796\n",
      "Epoch 00012: val_loss improved from 0.16356 to 0.14465, saving model to ../model/<function rexnet_model at 0x7fdac86f6b00>_auto_deskew_RexNet0.7_best_4.h5\n",
      "240/240 [==============================] - 9s 38ms/step - loss: 0.0676 - accuracy: 0.9797 - val_loss: 0.1447 - val_accuracy: 0.9645 - lr: 2.5000e-04\n",
      "Epoch 13/15\n",
      "239/240 [============================>.] - ETA: 0s - loss: 0.0507 - accuracy: 0.9825\n",
      "Epoch 00013: val_loss did not improve from 0.14465\n",
      "240/240 [==============================] - 8s 35ms/step - loss: 0.0508 - accuracy: 0.9823 - val_loss: 0.1870 - val_accuracy: 0.9566 - lr: 2.5000e-04\n",
      "Epoch 14/15\n",
      "239/240 [============================>.] - ETA: 0s - loss: 0.0458 - accuracy: 0.9850\n",
      "Epoch 00014: val_loss did not improve from 0.14465\n",
      "240/240 [==============================] - 8s 34ms/step - loss: 0.0458 - accuracy: 0.9850 - val_loss: 0.1565 - val_accuracy: 0.9688 - lr: 2.5000e-04\n",
      "Epoch 15/15\n",
      "239/240 [============================>.] - ETA: 0s - loss: 0.0493 - accuracy: 0.9837\n",
      "Epoch 00015: val_loss did not improve from 0.14465\n",
      "240/240 [==============================] - 8s 34ms/step - loss: 0.0496 - accuracy: 0.9836 - val_loss: 0.1617 - val_accuracy: 0.9660 - lr: 2.5000e-04\n"
     ]
    },
    {
     "data": {
      "image/png": "[encoded data removed]",
      "text/plain": [
       "<Figure size 864x576 with 2 Axes>"
      ]
     },
     "metadata": {
      "needs_background": "light"
     },
     "output_type": "display_data"
    },
    {
     "name": "stdout",
     "output_type": "stream",
     "text": [
      "load model and predict\n",
      "valid acc\n",
      "80/80 [==============================] - 1s 9ms/step - loss: 0.1447 - accuracy: 0.9645\n",
      "\n",
      "\n",
      "\n",
      "\n"
     ]
    }
   ],
   "source": [
    "model_train, model_test = get_stacking(rexnet_model, model_name, train_auto, y_auto, n_fold, seed, epochs, batch_size, learning_rate, EarlyStopping_patience, ReduceLROnPlateau_patience, ReduceLROnPlateau_factor)"
   ]
  },
  {
   "cell_type": "code",
   "execution_count": 51,
   "metadata": {},
   "outputs": [],
   "source": [
    "pickle.dump(model_train, open(\"../new_data/{}.pkl\".format(\"auto_noise0_deskew\"), \"wb\"))\n",
    "pickle.dump(model_test, open(\"../new_data/{}.pkl\".format(\"auto_noise0_deskew\"), \"wb\"))"
   ]
  },
  {
   "cell_type": "markdown",
   "metadata": {},
   "source": [
    "### DenseNet-121"
   ]
  },
  {
   "cell_type": "code",
   "execution_count": 37,
   "metadata": {},
   "outputs": [],
   "source": [
    "epochs = 40\n",
    "batch_size = 32\n",
    "n_fold = 4\n",
    "seed = 2020\n",
    "model_name = \"auto_Dexnet121\" #저장할 모델이름\n",
    "learning_rate = 0.001\n",
    "EarlyStopping_patience = 15 # 얼마나 지켜보고 early stopping 할것인가\n",
    "ReduceLROnPlateau_patience=5 # 얼마나 지켜보고 learing rate 감소시킬 것인가\n",
    "ReduceLROnPlateau_factor=0.5 # 감소시키는 비율 learing rate := learing rate * factor"
   ]
  },
  {
   "cell_type": "code",
   "execution_count": 43,
   "metadata": {
    "scrolled": true
   },
   "outputs": [
    {
     "name": "stdout",
     "output_type": "stream",
     "text": [
      "*******************number_1_kfold_model*******************\n",
      "Epoch 1/40\n",
      "480/480 [==============================] - ETA: 0s - loss: 0.6908 - accuracy: 0.7969\n",
      "Epoch 00001: val_loss improved from inf to 0.98311, saving model to ../model/<function DenseNet_121 at 0x7fe35ab9ae60>_auto_Dexnet121_best_1.h5\n",
      "480/480 [==============================] - 45s 93ms/step - loss: 0.6908 - accuracy: 0.7969 - val_loss: 0.9831 - val_accuracy: 0.7705 - lr: 0.0010\n",
      "Epoch 2/40\n",
      "480/480 [==============================] - ETA: 0s - loss: 0.3745 - accuracy: 0.8794\n",
      "Epoch 00002: val_loss did not improve from 0.98311\n",
      "480/480 [==============================] - 44s 92ms/step - loss: 0.3745 - accuracy: 0.8794 - val_loss: 2.8679 - val_accuracy: 0.5143 - lr: 0.0010\n",
      "Epoch 3/40\n",
      "480/480 [==============================] - ETA: 0s - loss: 0.3149 - accuracy: 0.8927\n",
      "Epoch 00003: val_loss improved from 0.98311 to 0.73885, saving model to ../model/<function DenseNet_121 at 0x7fe35ab9ae60>_auto_Dexnet121_best_1.h5\n",
      "480/480 [==============================] - 45s 93ms/step - loss: 0.3149 - accuracy: 0.8927 - val_loss: 0.7388 - val_accuracy: 0.8150 - lr: 0.0010\n",
      "Epoch 4/40\n",
      "480/480 [==============================] - ETA: 0s - loss: 0.2689 - accuracy: 0.9112\n",
      "Epoch 00004: val_loss did not improve from 0.73885\n",
      "480/480 [==============================] - 44s 91ms/step - loss: 0.2689 - accuracy: 0.9112 - val_loss: 0.8048 - val_accuracy: 0.7986 - lr: 0.0010\n",
      "Epoch 5/40\n",
      "480/480 [==============================] - ETA: 0s - loss: 0.2373 - accuracy: 0.9184\n",
      "Epoch 00005: val_loss improved from 0.73885 to 0.44935, saving model to ../model/<function DenseNet_121 at 0x7fe35ab9ae60>_auto_Dexnet121_best_1.h5\n",
      "480/480 [==============================] - 44s 92ms/step - loss: 0.2373 - accuracy: 0.9184 - val_loss: 0.4493 - val_accuracy: 0.8740 - lr: 0.0010\n",
      "Epoch 6/40\n",
      "480/480 [==============================] - ETA: 0s - loss: 0.2127 - accuracy: 0.9268\n",
      "Epoch 00006: val_loss improved from 0.44935 to 0.30075, saving model to ../model/<function DenseNet_121 at 0x7fe35ab9ae60>_auto_Dexnet121_best_1.h5\n",
      "480/480 [==============================] - 45s 93ms/step - loss: 0.2127 - accuracy: 0.9268 - val_loss: 0.3007 - val_accuracy: 0.8980 - lr: 0.0010\n",
      "Epoch 7/40\n",
      "480/480 [==============================] - ETA: 0s - loss: 0.1967 - accuracy: 0.9344\n",
      "Epoch 00007: val_loss did not improve from 0.30075\n",
      "480/480 [==============================] - 44s 92ms/step - loss: 0.1967 - accuracy: 0.9344 - val_loss: 0.3789 - val_accuracy: 0.8848 - lr: 0.0010\n",
      "Epoch 8/40\n",
      "480/480 [==============================] - ETA: 0s - loss: 0.1765 - accuracy: 0.9397\n",
      "Epoch 00008: val_loss did not improve from 0.30075\n",
      "480/480 [==============================] - 44s 91ms/step - loss: 0.1765 - accuracy: 0.9397 - val_loss: 0.5308 - val_accuracy: 0.8518 - lr: 0.0010\n",
      "Epoch 9/40\n",
      "480/480 [==============================] - ETA: 0s - loss: 0.1741 - accuracy: 0.9404\n",
      "Epoch 00009: val_loss did not improve from 0.30075\n",
      "480/480 [==============================] - 44s 92ms/step - loss: 0.1741 - accuracy: 0.9404 - val_loss: 0.3381 - val_accuracy: 0.8934 - lr: 0.0010\n",
      "Epoch 10/40\n",
      "480/480 [==============================] - ETA: 0s - loss: 0.1559 - accuracy: 0.9472\n",
      "Epoch 00010: val_loss did not improve from 0.30075\n",
      "480/480 [==============================] - 44s 91ms/step - loss: 0.1559 - accuracy: 0.9472 - val_loss: 0.5668 - val_accuracy: 0.8465 - lr: 0.0010\n",
      "Epoch 11/40\n",
      "480/480 [==============================] - ETA: 0s - loss: 0.1417 - accuracy: 0.9511\n",
      "Epoch 00011: val_loss improved from 0.30075 to 0.23563, saving model to ../model/<function DenseNet_121 at 0x7fe35ab9ae60>_auto_Dexnet121_best_1.h5\n",
      "480/480 [==============================] - 45s 93ms/step - loss: 0.1417 - accuracy: 0.9511 - val_loss: 0.2356 - val_accuracy: 0.9299 - lr: 0.0010\n",
      "Epoch 12/40\n",
      "480/480 [==============================] - ETA: 0s - loss: 0.1216 - accuracy: 0.9590\n",
      "Epoch 00012: val_loss did not improve from 0.23563\n",
      "480/480 [==============================] - 44s 92ms/step - loss: 0.1216 - accuracy: 0.9590 - val_loss: 0.3005 - val_accuracy: 0.9145 - lr: 0.0010\n",
      "Epoch 13/40\n",
      "480/480 [==============================] - ETA: 0s - loss: 0.1122 - accuracy: 0.9616\n",
      "Epoch 00013: val_loss did not improve from 0.23563\n",
      "480/480 [==============================] - 44s 91ms/step - loss: 0.1122 - accuracy: 0.9616 - val_loss: 0.2771 - val_accuracy: 0.9244 - lr: 0.0010\n",
      "Epoch 14/40\n",
      "480/480 [==============================] - ETA: 0s - loss: 0.1091 - accuracy: 0.9641\n",
      "Epoch 00014: val_loss did not improve from 0.23563\n",
      "480/480 [==============================] - 44s 92ms/step - loss: 0.1091 - accuracy: 0.9641 - val_loss: 0.5406 - val_accuracy: 0.8875 - lr: 0.0010\n",
      "Epoch 15/40\n",
      "480/480 [==============================] - ETA: 0s - loss: 0.1466 - accuracy: 0.9518\n",
      "Epoch 00015: val_loss did not improve from 0.23563\n",
      "480/480 [==============================] - 44s 91ms/step - loss: 0.1466 - accuracy: 0.9518 - val_loss: 0.2577 - val_accuracy: 0.9275 - lr: 0.0010\n",
      "Epoch 16/40\n",
      "480/480 [==============================] - ETA: 0s - loss: 0.0733 - accuracy: 0.9751\n",
      "Epoch 00016: val_loss improved from 0.23563 to 0.23238, saving model to ../model/<function DenseNet_121 at 0x7fe35ab9ae60>_auto_Dexnet121_best_1.h5\n",
      "480/480 [==============================] - 45s 93ms/step - loss: 0.0733 - accuracy: 0.9751 - val_loss: 0.2324 - val_accuracy: 0.9258 - lr: 0.0010\n",
      "Epoch 17/40\n",
      "480/480 [==============================] - ETA: 0s - loss: 0.0780 - accuracy: 0.9724\n",
      "Epoch 00017: val_loss did not improve from 0.23238\n",
      "480/480 [==============================] - 44s 92ms/step - loss: 0.0780 - accuracy: 0.9724 - val_loss: 0.3981 - val_accuracy: 0.8930 - lr: 0.0010\n",
      "Epoch 18/40\n",
      "480/480 [==============================] - ETA: 0s - loss: 0.0697 - accuracy: 0.9747\n",
      "Epoch 00018: val_loss improved from 0.23238 to 0.15405, saving model to ../model/<function DenseNet_121 at 0x7fe35ab9ae60>_auto_Dexnet121_best_1.h5\n",
      "480/480 [==============================] - 45s 93ms/step - loss: 0.0697 - accuracy: 0.9747 - val_loss: 0.1540 - val_accuracy: 0.9541 - lr: 0.0010\n",
      "Epoch 19/40\n",
      "480/480 [==============================] - ETA: 0s - loss: 0.0759 - accuracy: 0.9738\n",
      "Epoch 00019: val_loss did not improve from 0.15405\n",
      "480/480 [==============================] - 44s 91ms/step - loss: 0.0759 - accuracy: 0.9738 - val_loss: 1.2664 - val_accuracy: 0.7908 - lr: 0.0010\n",
      "Epoch 20/40\n",
      "480/480 [==============================] - ETA: 0s - loss: 0.0566 - accuracy: 0.9801\n",
      "Epoch 00020: val_loss did not improve from 0.15405\n",
      "480/480 [==============================] - 35s 73ms/step - loss: 0.0566 - accuracy: 0.9801 - val_loss: 0.3296 - val_accuracy: 0.9285 - lr: 0.0010\n",
      "Epoch 21/40\n",
      "480/480 [==============================] - ETA: 0s - loss: 0.0670 - accuracy: 0.9771\n",
      "Epoch 00021: val_loss did not improve from 0.15405\n",
      "480/480 [==============================] - 34s 70ms/step - loss: 0.0670 - accuracy: 0.9771 - val_loss: 0.2057 - val_accuracy: 0.9518 - lr: 0.0010\n",
      "Epoch 22/40\n",
      "480/480 [==============================] - ETA: 0s - loss: 0.0577 - accuracy: 0.9811\n",
      "Epoch 00022: val_loss improved from 0.15405 to 0.14507, saving model to ../model/<function DenseNet_121 at 0x7fe35ab9ae60>_auto_Dexnet121_best_1.h5\n",
      "480/480 [==============================] - 38s 78ms/step - loss: 0.0577 - accuracy: 0.9811 - val_loss: 0.1451 - val_accuracy: 0.9594 - lr: 0.0010\n",
      "Epoch 23/40\n",
      "480/480 [==============================] - ETA: 0s - loss: 0.0540 - accuracy: 0.9815\n",
      "Epoch 00023: val_loss did not improve from 0.14507\n",
      "480/480 [==============================] - 37s 77ms/step - loss: 0.0540 - accuracy: 0.9815 - val_loss: 0.2658 - val_accuracy: 0.9391 - lr: 0.0010\n",
      "Epoch 24/40\n",
      "480/480 [==============================] - ETA: 0s - loss: 0.0499 - accuracy: 0.9833\n",
      "Epoch 00024: val_loss did not improve from 0.14507\n",
      "480/480 [==============================] - 40s 84ms/step - loss: 0.0499 - accuracy: 0.9833 - val_loss: 0.2661 - val_accuracy: 0.9391 - lr: 0.0010\n",
      "Epoch 25/40\n",
      "480/480 [==============================] - ETA: 0s - loss: 0.0751 - accuracy: 0.9789\n",
      "Epoch 00025: val_loss did not improve from 0.14507\n",
      "480/480 [==============================] - 35s 73ms/step - loss: 0.0751 - accuracy: 0.9789 - val_loss: 14.4764 - val_accuracy: 0.3791 - lr: 0.0010\n",
      "Epoch 26/40\n",
      "480/480 [==============================] - ETA: 0s - loss: 0.0709 - accuracy: 0.9790\n",
      "Epoch 00026: val_loss did not improve from 0.14507\n",
      "480/480 [==============================] - 35s 72ms/step - loss: 0.0709 - accuracy: 0.9790 - val_loss: 1.1629 - val_accuracy: 0.8225 - lr: 0.0010\n",
      "Epoch 27/40\n",
      "480/480 [==============================] - ETA: 0s - loss: 0.0260 - accuracy: 0.9900\n",
      "Epoch 00027: val_loss did not improve from 0.14507\n",
      "480/480 [==============================] - 35s 73ms/step - loss: 0.0260 - accuracy: 0.9900 - val_loss: 0.2550 - val_accuracy: 0.9520 - lr: 0.0010\n",
      "Epoch 28/40\n",
      "480/480 [==============================] - ETA: 0s - loss: 0.0047 - accuracy: 0.9986\n",
      "Epoch 00028: val_loss improved from 0.14507 to 0.13153, saving model to ../model/<function DenseNet_121 at 0x7fe35ab9ae60>_auto_Dexnet121_best_1.h5\n",
      "480/480 [==============================] - 35s 72ms/step - loss: 0.0047 - accuracy: 0.9986 - val_loss: 0.1315 - val_accuracy: 0.9695 - lr: 5.0000e-04\n",
      "Epoch 29/40\n",
      "480/480 [==============================] - ETA: 0s - loss: 0.0032 - accuracy: 0.9990\n",
      "Epoch 00029: val_loss improved from 0.13153 to 0.11741, saving model to ../model/<function DenseNet_121 at 0x7fe35ab9ae60>_auto_Dexnet121_best_1.h5\n",
      "480/480 [==============================] - 36s 75ms/step - loss: 0.0032 - accuracy: 0.9990 - val_loss: 0.1174 - val_accuracy: 0.9711 - lr: 5.0000e-04\n",
      "Epoch 30/40\n",
      "480/480 [==============================] - ETA: 0s - loss: 8.6113e-04 - accuracy: 0.9999\n",
      "Epoch 00030: val_loss did not improve from 0.11741\n",
      "480/480 [==============================] - 34s 71ms/step - loss: 8.6113e-04 - accuracy: 0.9999 - val_loss: 0.1219 - val_accuracy: 0.9719 - lr: 5.0000e-04\n",
      "Epoch 31/40\n",
      "480/480 [==============================] - ETA: 0s - loss: 0.0082 - accuracy: 0.9976\n",
      "Epoch 00031: val_loss did not improve from 0.11741\n",
      "480/480 [==============================] - 38s 79ms/step - loss: 0.0082 - accuracy: 0.9976 - val_loss: 1.0067 - val_accuracy: 0.8758 - lr: 5.0000e-04\n",
      "Epoch 32/40\n",
      "480/480 [==============================] - ETA: 0s - loss: 0.0153 - accuracy: 0.9957\n",
      "Epoch 00032: val_loss did not improve from 0.11741\n",
      "480/480 [==============================] - 33s 70ms/step - loss: 0.0153 - accuracy: 0.9957 - val_loss: 0.2625 - val_accuracy: 0.9539 - lr: 5.0000e-04\n",
      "Epoch 33/40\n",
      "480/480 [==============================] - ETA: 0s - loss: 0.0157 - accuracy: 0.9952\n",
      "Epoch 00033: val_loss did not improve from 0.11741\n",
      "480/480 [==============================] - 33s 70ms/step - loss: 0.0157 - accuracy: 0.9952 - val_loss: 0.1877 - val_accuracy: 0.9580 - lr: 5.0000e-04\n",
      "Epoch 34/40\n",
      "480/480 [==============================] - ETA: 0s - loss: 0.0128 - accuracy: 0.9958\n",
      "Epoch 00034: val_loss did not improve from 0.11741\n",
      "480/480 [==============================] - 33s 70ms/step - loss: 0.0128 - accuracy: 0.9958 - val_loss: 0.1773 - val_accuracy: 0.9621 - lr: 5.0000e-04\n",
      "Epoch 35/40\n",
      "480/480 [==============================] - ETA: 0s - loss: 0.0028 - accuracy: 0.9993\n",
      "Epoch 00035: val_loss did not improve from 0.11741\n",
      "480/480 [==============================] - 34s 70ms/step - loss: 0.0028 - accuracy: 0.9993 - val_loss: 0.1380 - val_accuracy: 0.9699 - lr: 2.5000e-04\n",
      "Epoch 36/40\n",
      "480/480 [==============================] - ETA: 0s - loss: 0.0010 - accuracy: 0.9999\n",
      "Epoch 00036: val_loss did not improve from 0.11741\n",
      "480/480 [==============================] - 33s 70ms/step - loss: 0.0010 - accuracy: 0.9999 - val_loss: 0.1319 - val_accuracy: 0.9717 - lr: 2.5000e-04\n",
      "Epoch 37/40\n",
      "480/480 [==============================] - ETA: 0s - loss: 5.1460e-04 - accuracy: 1.0000\n",
      "Epoch 00037: val_loss did not improve from 0.11741\n",
      "480/480 [==============================] - 33s 70ms/step - loss: 5.1460e-04 - accuracy: 1.0000 - val_loss: 0.1308 - val_accuracy: 0.9723 - lr: 2.5000e-04\n",
      "Epoch 38/40\n",
      "480/480 [==============================] - ETA: 0s - loss: 3.8834e-04 - accuracy: 1.0000\n",
      "Epoch 00038: val_loss did not improve from 0.11741\n",
      "480/480 [==============================] - 33s 70ms/step - loss: 3.8834e-04 - accuracy: 1.0000 - val_loss: 0.1291 - val_accuracy: 0.9729 - lr: 2.5000e-04\n",
      "Epoch 39/40\n",
      "480/480 [==============================] - ETA: 0s - loss: 0.0019 - accuracy: 0.9995\n",
      "Epoch 00039: val_loss did not improve from 0.11741\n",
      "480/480 [==============================] - 33s 70ms/step - loss: 0.0019 - accuracy: 0.9995 - val_loss: 0.1502 - val_accuracy: 0.9689 - lr: 2.5000e-04\n",
      "Epoch 40/40\n",
      "480/480 [==============================] - ETA: 0s - loss: 9.4664e-04 - accuracy: 0.9997\n",
      "Epoch 00040: val_loss did not improve from 0.11741\n",
      "480/480 [==============================] - 33s 70ms/step - loss: 9.4664e-04 - accuracy: 0.9997 - val_loss: 0.1442 - val_accuracy: 0.9723 - lr: 1.2500e-04\n"
     ]
    },
    {
     "data": {
      "image/png": "[encoded data removed]",
      "text/plain": [
       "<Figure size 864x576 with 2 Axes>"
      ]
     },
     "metadata": {
      "needs_background": "light"
     },
     "output_type": "display_data"
    },
    {
     "name": "stdout",
     "output_type": "stream",
     "text": [
      "load model and predict\n",
      "valid acc\n",
      "160/160 [==============================] - 3s 17ms/step - loss: 0.1174 - accuracy: 0.9711\n",
      "\n",
      "\n",
      "\n",
      "\n",
      "*******************number_2_kfold_model*******************\n",
      "Epoch 1/40\n",
      "480/480 [==============================] - ETA: 0s - loss: 0.7096 - accuracy: 0.7888\n",
      "Epoch 00001: val_loss improved from inf to 0.89978, saving model to ../model/<function DenseNet_121 at 0x7fe35ab9ae60>_auto_Dexnet121_best_2.h5\n",
      "480/480 [==============================] - 35s 72ms/step - loss: 0.7096 - accuracy: 0.7888 - val_loss: 0.8998 - val_accuracy: 0.7912 - lr: 0.0010\n",
      "Epoch 2/40\n",
      "480/480 [==============================] - ETA: 0s - loss: 0.3884 - accuracy: 0.8735\n",
      "Epoch 00002: val_loss did not improve from 0.89978\n",
      "480/480 [==============================] - 33s 69ms/step - loss: 0.3884 - accuracy: 0.8735 - val_loss: 1.2181 - val_accuracy: 0.6912 - lr: 0.0010\n",
      "Epoch 3/40\n",
      "480/480 [==============================] - ETA: 0s - loss: 0.3142 - accuracy: 0.8935\n",
      "Epoch 00003: val_loss improved from 0.89978 to 0.65640, saving model to ../model/<function DenseNet_121 at 0x7fe35ab9ae60>_auto_Dexnet121_best_2.h5\n",
      "480/480 [==============================] - 34s 71ms/step - loss: 0.3142 - accuracy: 0.8935 - val_loss: 0.6564 - val_accuracy: 0.8078 - lr: 0.0010\n",
      "Epoch 4/40\n",
      "480/480 [==============================] - ETA: 0s - loss: 0.2771 - accuracy: 0.9062\n",
      "Epoch 00004: val_loss did not improve from 0.65640\n",
      "480/480 [==============================] - 33s 69ms/step - loss: 0.2771 - accuracy: 0.9062 - val_loss: 1.1880 - val_accuracy: 0.7395 - lr: 0.0010\n",
      "Epoch 5/40\n",
      "480/480 [==============================] - ETA: 0s - loss: 0.2496 - accuracy: 0.9146\n",
      "Epoch 00005: val_loss improved from 0.65640 to 0.39651, saving model to ../model/<function DenseNet_121 at 0x7fe35ab9ae60>_auto_Dexnet121_best_2.h5\n",
      "480/480 [==============================] - 34s 71ms/step - loss: 0.2496 - accuracy: 0.9146 - val_loss: 0.3965 - val_accuracy: 0.8805 - lr: 0.0010\n",
      "Epoch 6/40\n",
      "480/480 [==============================] - ETA: 0s - loss: 0.2198 - accuracy: 0.9251\n",
      "Epoch 00006: val_loss improved from 0.39651 to 0.37773, saving model to ../model/<function DenseNet_121 at 0x7fe35ab9ae60>_auto_Dexnet121_best_2.h5\n",
      "480/480 [==============================] - 34s 71ms/step - loss: 0.2198 - accuracy: 0.9251 - val_loss: 0.3777 - val_accuracy: 0.8791 - lr: 0.0010\n",
      "Epoch 7/40\n",
      "480/480 [==============================] - ETA: 0s - loss: 0.2037 - accuracy: 0.9297\n",
      "Epoch 00007: val_loss did not improve from 0.37773\n",
      "480/480 [==============================] - 33s 70ms/step - loss: 0.2037 - accuracy: 0.9297 - val_loss: 2.0933 - val_accuracy: 0.6709 - lr: 0.0010\n",
      "Epoch 8/40\n",
      "480/480 [==============================] - ETA: 0s - loss: 0.1875 - accuracy: 0.9367\n",
      "Epoch 00008: val_loss did not improve from 0.37773\n",
      "480/480 [==============================] - 33s 70ms/step - loss: 0.1875 - accuracy: 0.9367 - val_loss: 0.5186 - val_accuracy: 0.8705 - lr: 0.0010\n",
      "Epoch 9/40\n",
      "480/480 [==============================] - ETA: 0s - loss: 0.1744 - accuracy: 0.9415\n",
      "Epoch 00009: val_loss did not improve from 0.37773\n",
      "480/480 [==============================] - 42s 87ms/step - loss: 0.1744 - accuracy: 0.9415 - val_loss: 1.2070 - val_accuracy: 0.7777 - lr: 0.0010\n",
      "Epoch 10/40\n",
      "480/480 [==============================] - ETA: 0s - loss: 0.1720 - accuracy: 0.9398\n",
      "Epoch 00010: val_loss improved from 0.37773 to 0.32045, saving model to ../model/<function DenseNet_121 at 0x7fe35ab9ae60>_auto_Dexnet121_best_2.h5\n",
      "480/480 [==============================] - 44s 93ms/step - loss: 0.1720 - accuracy: 0.9398 - val_loss: 0.3204 - val_accuracy: 0.8969 - lr: 0.0010\n",
      "Epoch 11/40\n",
      "480/480 [==============================] - ETA: 0s - loss: 0.1458 - accuracy: 0.9521\n",
      "Epoch 00011: val_loss improved from 0.32045 to 0.25232, saving model to ../model/<function DenseNet_121 at 0x7fe35ab9ae60>_auto_Dexnet121_best_2.h5\n",
      "480/480 [==============================] - 45s 93ms/step - loss: 0.1458 - accuracy: 0.9521 - val_loss: 0.2523 - val_accuracy: 0.9162 - lr: 0.0010\n",
      "Epoch 12/40\n",
      "480/480 [==============================] - ETA: 0s - loss: 0.1414 - accuracy: 0.9507\n",
      "Epoch 00012: val_loss did not improve from 0.25232\n",
      "480/480 [==============================] - 44s 91ms/step - loss: 0.1414 - accuracy: 0.9507 - val_loss: 1.2906 - val_accuracy: 0.7467 - lr: 0.0010\n",
      "Epoch 13/40\n",
      "480/480 [==============================] - ETA: 0s - loss: 0.1206 - accuracy: 0.9587\n",
      "Epoch 00013: val_loss did not improve from 0.25232\n",
      "480/480 [==============================] - 44s 92ms/step - loss: 0.1206 - accuracy: 0.9587 - val_loss: 0.4363 - val_accuracy: 0.8955 - lr: 0.0010\n",
      "Epoch 14/40\n",
      "480/480 [==============================] - ETA: 0s - loss: 0.1210 - accuracy: 0.9570\n",
      "Epoch 00014: val_loss improved from 0.25232 to 0.21502, saving model to ../model/<function DenseNet_121 at 0x7fe35ab9ae60>_auto_Dexnet121_best_2.h5\n",
      "480/480 [==============================] - 44s 93ms/step - loss: 0.1210 - accuracy: 0.9570 - val_loss: 0.2150 - val_accuracy: 0.9346 - lr: 0.0010\n",
      "Epoch 15/40\n",
      "480/480 [==============================] - ETA: 0s - loss: 0.1017 - accuracy: 0.9653\n",
      "Epoch 00015: val_loss did not improve from 0.21502\n",
      "480/480 [==============================] - 44s 91ms/step - loss: 0.1017 - accuracy: 0.9653 - val_loss: 0.5517 - val_accuracy: 0.8730 - lr: 0.0010\n",
      "Epoch 16/40\n",
      "480/480 [==============================] - ETA: 0s - loss: 0.1050 - accuracy: 0.9652\n",
      "Epoch 00016: val_loss did not improve from 0.21502\n",
      "480/480 [==============================] - 44s 91ms/step - loss: 0.1050 - accuracy: 0.9652 - val_loss: 0.8650 - val_accuracy: 0.7951 - lr: 0.0010\n",
      "Epoch 17/40\n",
      "480/480 [==============================] - ETA: 0s - loss: 0.1036 - accuracy: 0.9661\n",
      "Epoch 00017: val_loss did not improve from 0.21502\n",
      "480/480 [==============================] - 44s 91ms/step - loss: 0.1036 - accuracy: 0.9661 - val_loss: 0.2478 - val_accuracy: 0.9289 - lr: 0.0010\n",
      "Epoch 18/40\n",
      "480/480 [==============================] - ETA: 0s - loss: 0.0807 - accuracy: 0.9712\n",
      "Epoch 00018: val_loss did not improve from 0.21502\n",
      "480/480 [==============================] - 44s 91ms/step - loss: 0.0807 - accuracy: 0.9712 - val_loss: 1.6645 - val_accuracy: 0.7324 - lr: 0.0010\n",
      "Epoch 19/40\n",
      "480/480 [==============================] - ETA: 0s - loss: 0.0637 - accuracy: 0.9778\n",
      "Epoch 00019: val_loss improved from 0.21502 to 0.18039, saving model to ../model/<function DenseNet_121 at 0x7fe35ab9ae60>_auto_Dexnet121_best_2.h5\n",
      "480/480 [==============================] - 44s 93ms/step - loss: 0.0637 - accuracy: 0.9778 - val_loss: 0.1804 - val_accuracy: 0.9525 - lr: 0.0010\n",
      "Epoch 20/40\n",
      "480/480 [==============================] - ETA: 0s - loss: 0.0649 - accuracy: 0.9782\n",
      "Epoch 00020: val_loss did not improve from 0.18039\n",
      "480/480 [==============================] - 44s 91ms/step - loss: 0.0649 - accuracy: 0.9782 - val_loss: 1.1233 - val_accuracy: 0.7959 - lr: 0.0010\n",
      "Epoch 21/40\n",
      "480/480 [==============================] - ETA: 0s - loss: 0.0743 - accuracy: 0.9762\n",
      "Epoch 00021: val_loss did not improve from 0.18039\n",
      "480/480 [==============================] - 44s 91ms/step - loss: 0.0743 - accuracy: 0.9762 - val_loss: 0.2203 - val_accuracy: 0.9359 - lr: 0.0010\n",
      "Epoch 22/40\n",
      "480/480 [==============================] - ETA: 0s - loss: 0.0535 - accuracy: 0.9805\n",
      "Epoch 00022: val_loss did not improve from 0.18039\n",
      "480/480 [==============================] - 44s 91ms/step - loss: 0.0535 - accuracy: 0.9805 - val_loss: 0.2961 - val_accuracy: 0.9365 - lr: 0.0010\n",
      "Epoch 23/40\n",
      "480/480 [==============================] - ETA: 0s - loss: 0.0795 - accuracy: 0.9743\n",
      "Epoch 00023: val_loss did not improve from 0.18039\n",
      "480/480 [==============================] - 44s 91ms/step - loss: 0.0795 - accuracy: 0.9743 - val_loss: 0.4630 - val_accuracy: 0.9135 - lr: 0.0010\n",
      "Epoch 24/40\n",
      "480/480 [==============================] - ETA: 0s - loss: 0.0449 - accuracy: 0.9855\n",
      "Epoch 00024: val_loss did not improve from 0.18039\n",
      "480/480 [==============================] - 44s 91ms/step - loss: 0.0449 - accuracy: 0.9855 - val_loss: 2.5572 - val_accuracy: 0.7008 - lr: 0.0010\n",
      "Epoch 25/40\n",
      "480/480 [==============================] - ETA: 0s - loss: 0.0198 - accuracy: 0.9941\n",
      "Epoch 00025: val_loss improved from 0.18039 to 0.14076, saving model to ../model/<function DenseNet_121 at 0x7fe35ab9ae60>_auto_Dexnet121_best_2.h5\n"
     ]
    },
    {
     "name": "stdout",
     "output_type": "stream",
     "text": [
      "480/480 [==============================] - 44s 92ms/step - loss: 0.0198 - accuracy: 0.9941 - val_loss: 0.1408 - val_accuracy: 0.9629 - lr: 5.0000e-04\n",
      "Epoch 26/40\n",
      "480/480 [==============================] - ETA: 0s - loss: 0.0068 - accuracy: 0.9980\n",
      "Epoch 00026: val_loss improved from 0.14076 to 0.12476, saving model to ../model/<function DenseNet_121 at 0x7fe35ab9ae60>_auto_Dexnet121_best_2.h5\n",
      "480/480 [==============================] - 44s 92ms/step - loss: 0.0068 - accuracy: 0.9980 - val_loss: 0.1248 - val_accuracy: 0.9674 - lr: 5.0000e-04\n",
      "Epoch 27/40\n",
      "480/480 [==============================] - ETA: 0s - loss: 0.0142 - accuracy: 0.9951\n",
      "Epoch 00027: val_loss did not improve from 0.12476\n",
      "480/480 [==============================] - 44s 91ms/step - loss: 0.0142 - accuracy: 0.9951 - val_loss: 0.3811 - val_accuracy: 0.9334 - lr: 5.0000e-04\n",
      "Epoch 28/40\n",
      "480/480 [==============================] - ETA: 0s - loss: 0.0191 - accuracy: 0.9937\n",
      "Epoch 00028: val_loss improved from 0.12476 to 0.11357, saving model to ../model/<function DenseNet_121 at 0x7fe35ab9ae60>_auto_Dexnet121_best_2.h5\n",
      "480/480 [==============================] - 44s 92ms/step - loss: 0.0191 - accuracy: 0.9937 - val_loss: 0.1136 - val_accuracy: 0.9666 - lr: 5.0000e-04\n",
      "Epoch 29/40\n",
      "480/480 [==============================] - ETA: 0s - loss: 0.0105 - accuracy: 0.9963\n",
      "Epoch 00029: val_loss did not improve from 0.11357\n",
      "480/480 [==============================] - 44s 91ms/step - loss: 0.0105 - accuracy: 0.9963 - val_loss: 0.2262 - val_accuracy: 0.9535 - lr: 5.0000e-04\n",
      "Epoch 30/40\n",
      "480/480 [==============================] - ETA: 0s - loss: 0.0161 - accuracy: 0.9945\n",
      "Epoch 00030: val_loss did not improve from 0.11357\n",
      "480/480 [==============================] - 43s 91ms/step - loss: 0.0161 - accuracy: 0.9945 - val_loss: 0.2734 - val_accuracy: 0.9326 - lr: 5.0000e-04\n",
      "Epoch 31/40\n",
      "480/480 [==============================] - ETA: 0s - loss: 0.0124 - accuracy: 0.9960\n",
      "Epoch 00031: val_loss did not improve from 0.11357\n",
      "480/480 [==============================] - 43s 91ms/step - loss: 0.0124 - accuracy: 0.9960 - val_loss: 0.1562 - val_accuracy: 0.9600 - lr: 5.0000e-04\n",
      "Epoch 32/40\n",
      "480/480 [==============================] - ETA: 0s - loss: 0.0087 - accuracy: 0.9967\n",
      "Epoch 00032: val_loss did not improve from 0.11357\n",
      "480/480 [==============================] - 43s 91ms/step - loss: 0.0087 - accuracy: 0.9967 - val_loss: 0.2718 - val_accuracy: 0.9482 - lr: 5.0000e-04\n",
      "Epoch 33/40\n",
      "480/480 [==============================] - ETA: 0s - loss: 0.0220 - accuracy: 0.9923\n",
      "Epoch 00033: val_loss did not improve from 0.11357\n",
      "480/480 [==============================] - 44s 93ms/step - loss: 0.0220 - accuracy: 0.9923 - val_loss: 0.2476 - val_accuracy: 0.9506 - lr: 5.0000e-04\n",
      "Epoch 34/40\n",
      " 28/480 [>.............................] - ETA: 37s - loss: 0.0068 - accuracy: 0.9978"
     ]
    },
    {
     "ename": "KeyboardInterrupt",
     "evalue": "",
     "output_type": "error",
     "traceback": [
      "\u001b[0;31m---------------------------------------------------------------------------\u001b[0m",
      "\u001b[0;31mKeyboardInterrupt\u001b[0m                         Traceback (most recent call last)",
      "\u001b[0;32m<ipython-input-43-953b4bfa49f2>\u001b[0m in \u001b[0;36m<module>\u001b[0;34m\u001b[0m\n\u001b[0;32m----> 1\u001b[0;31m \u001b[0mmodel121_train\u001b[0m\u001b[0;34m,\u001b[0m \u001b[0mmodel121_test\u001b[0m \u001b[0;34m=\u001b[0m \u001b[0mget_stacking\u001b[0m\u001b[0;34m(\u001b[0m\u001b[0mDenseNet_121\u001b[0m\u001b[0;34m,\u001b[0m \u001b[0mmodel_name\u001b[0m\u001b[0;34m,\u001b[0m \u001b[0mtrain_auto\u001b[0m\u001b[0;34m,\u001b[0m \u001b[0my_auto\u001b[0m\u001b[0;34m,\u001b[0m \u001b[0mn_fold\u001b[0m\u001b[0;34m,\u001b[0m \u001b[0mseed\u001b[0m\u001b[0;34m,\u001b[0m \u001b[0mepochs\u001b[0m\u001b[0;34m,\u001b[0m \u001b[0mbatch_size\u001b[0m\u001b[0;34m,\u001b[0m \u001b[0mlearning_rate\u001b[0m\u001b[0;34m,\u001b[0m \u001b[0mEarlyStopping_patience\u001b[0m\u001b[0;34m,\u001b[0m \u001b[0mReduceLROnPlateau_patience\u001b[0m\u001b[0;34m,\u001b[0m \u001b[0mReduceLROnPlateau_factor\u001b[0m\u001b[0;34m)\u001b[0m\u001b[0;34m\u001b[0m\u001b[0;34m\u001b[0m\u001b[0m\n\u001b[0m",
      "\u001b[0;32m<ipython-input-33-9c6c722e8e56>\u001b[0m in \u001b[0;36mget_stacking\u001b[0;34m(in_model, model_name, train, train_y, n_fold, SEED, epochs, batch_size, lr_, es_p, rlp_p, rlp_f)\u001b[0m\n\u001b[1;32m     30\u001b[0m                             \u001b[0msteps_per_epoch\u001b[0m\u001b[0;34m=\u001b[0m\u001b[0mx_train\u001b[0m\u001b[0;34m.\u001b[0m\u001b[0mshape\u001b[0m\u001b[0;34m[\u001b[0m\u001b[0;36m0\u001b[0m\u001b[0;34m]\u001b[0m \u001b[0;34m//\u001b[0m \u001b[0mbatch_size\u001b[0m\u001b[0;34m,\u001b[0m\u001b[0;34m\u001b[0m\u001b[0;34m\u001b[0m\u001b[0m\n\u001b[1;32m     31\u001b[0m                             \u001b[0mvalidation_steps\u001b[0m\u001b[0;34m=\u001b[0m\u001b[0mx_val\u001b[0m\u001b[0;34m.\u001b[0m\u001b[0mshape\u001b[0m\u001b[0;34m[\u001b[0m\u001b[0;36m0\u001b[0m\u001b[0;34m]\u001b[0m \u001b[0;34m//\u001b[0m \u001b[0mbatch_size\u001b[0m\u001b[0;34m,\u001b[0m\u001b[0;34m\u001b[0m\u001b[0;34m\u001b[0m\u001b[0m\n\u001b[0;32m---> 32\u001b[0;31m                             \u001b[0mcallbacks\u001b[0m\u001b[0;34m=\u001b[0m\u001b[0;34m[\u001b[0m\u001b[0mes\u001b[0m\u001b[0;34m,\u001b[0m \u001b[0mmc\u001b[0m\u001b[0;34m,\u001b[0m \u001b[0mrlp\u001b[0m\u001b[0;34m]\u001b[0m\u001b[0;34m\u001b[0m\u001b[0;34m\u001b[0m\u001b[0m\n\u001b[0m\u001b[1;32m     33\u001b[0m                             )\n\u001b[1;32m     34\u001b[0m \u001b[0;34m\u001b[0m\u001b[0m\n",
      "\u001b[0;32m~/anaconda3/envs/aiffel/lib/python3.7/site-packages/tensorflow/python/keras/engine/training.py\u001b[0m in \u001b[0;36m_method_wrapper\u001b[0;34m(self, *args, **kwargs)\u001b[0m\n\u001b[1;32m     64\u001b[0m   \u001b[0;32mdef\u001b[0m \u001b[0m_method_wrapper\u001b[0m\u001b[0;34m(\u001b[0m\u001b[0mself\u001b[0m\u001b[0;34m,\u001b[0m \u001b[0;34m*\u001b[0m\u001b[0margs\u001b[0m\u001b[0;34m,\u001b[0m \u001b[0;34m**\u001b[0m\u001b[0mkwargs\u001b[0m\u001b[0;34m)\u001b[0m\u001b[0;34m:\u001b[0m\u001b[0;34m\u001b[0m\u001b[0;34m\u001b[0m\u001b[0m\n\u001b[1;32m     65\u001b[0m     \u001b[0;32mif\u001b[0m \u001b[0;32mnot\u001b[0m \u001b[0mself\u001b[0m\u001b[0;34m.\u001b[0m\u001b[0m_in_multi_worker_mode\u001b[0m\u001b[0;34m(\u001b[0m\u001b[0;34m)\u001b[0m\u001b[0;34m:\u001b[0m  \u001b[0;31m# pylint: disable=protected-access\u001b[0m\u001b[0;34m\u001b[0m\u001b[0;34m\u001b[0m\u001b[0m\n\u001b[0;32m---> 66\u001b[0;31m       \u001b[0;32mreturn\u001b[0m \u001b[0mmethod\u001b[0m\u001b[0;34m(\u001b[0m\u001b[0mself\u001b[0m\u001b[0;34m,\u001b[0m \u001b[0;34m*\u001b[0m\u001b[0margs\u001b[0m\u001b[0;34m,\u001b[0m \u001b[0;34m**\u001b[0m\u001b[0mkwargs\u001b[0m\u001b[0;34m)\u001b[0m\u001b[0;34m\u001b[0m\u001b[0;34m\u001b[0m\u001b[0m\n\u001b[0m\u001b[1;32m     67\u001b[0m \u001b[0;34m\u001b[0m\u001b[0m\n\u001b[1;32m     68\u001b[0m     \u001b[0;31m# Running inside `run_distribute_coordinator` already.\u001b[0m\u001b[0;34m\u001b[0m\u001b[0;34m\u001b[0m\u001b[0;34m\u001b[0m\u001b[0m\n",
      "\u001b[0;32m~/anaconda3/envs/aiffel/lib/python3.7/site-packages/tensorflow/python/keras/engine/training.py\u001b[0m in \u001b[0;36mfit\u001b[0;34m(self, x, y, batch_size, epochs, verbose, callbacks, validation_split, validation_data, shuffle, class_weight, sample_weight, initial_epoch, steps_per_epoch, validation_steps, validation_batch_size, validation_freq, max_queue_size, workers, use_multiprocessing)\u001b[0m\n\u001b[1;32m    853\u001b[0m                 \u001b[0mcontext\u001b[0m\u001b[0;34m.\u001b[0m\u001b[0masync_wait\u001b[0m\u001b[0;34m(\u001b[0m\u001b[0;34m)\u001b[0m\u001b[0;34m\u001b[0m\u001b[0;34m\u001b[0m\u001b[0m\n\u001b[1;32m    854\u001b[0m               \u001b[0mlogs\u001b[0m \u001b[0;34m=\u001b[0m \u001b[0mtmp_logs\u001b[0m  \u001b[0;31m# No error, now safe to assign to logs.\u001b[0m\u001b[0;34m\u001b[0m\u001b[0;34m\u001b[0m\u001b[0m\n\u001b[0;32m--> 855\u001b[0;31m               \u001b[0mcallbacks\u001b[0m\u001b[0;34m.\u001b[0m\u001b[0mon_train_batch_end\u001b[0m\u001b[0;34m(\u001b[0m\u001b[0mstep\u001b[0m\u001b[0;34m,\u001b[0m \u001b[0mlogs\u001b[0m\u001b[0;34m)\u001b[0m\u001b[0;34m\u001b[0m\u001b[0;34m\u001b[0m\u001b[0m\n\u001b[0m\u001b[1;32m    856\u001b[0m         \u001b[0mepoch_logs\u001b[0m \u001b[0;34m=\u001b[0m \u001b[0mcopy\u001b[0m\u001b[0;34m.\u001b[0m\u001b[0mcopy\u001b[0m\u001b[0;34m(\u001b[0m\u001b[0mlogs\u001b[0m\u001b[0;34m)\u001b[0m\u001b[0;34m\u001b[0m\u001b[0;34m\u001b[0m\u001b[0m\n\u001b[1;32m    857\u001b[0m \u001b[0;34m\u001b[0m\u001b[0m\n",
      "\u001b[0;32m~/anaconda3/envs/aiffel/lib/python3.7/site-packages/tensorflow/python/keras/callbacks.py\u001b[0m in \u001b[0;36mon_train_batch_end\u001b[0;34m(self, batch, logs)\u001b[0m\n\u001b[1;32m    387\u001b[0m     \"\"\"\n\u001b[1;32m    388\u001b[0m     \u001b[0;32mif\u001b[0m \u001b[0mself\u001b[0m\u001b[0;34m.\u001b[0m\u001b[0m_should_call_train_batch_hooks\u001b[0m\u001b[0;34m:\u001b[0m\u001b[0;34m\u001b[0m\u001b[0;34m\u001b[0m\u001b[0m\n\u001b[0;32m--> 389\u001b[0;31m       \u001b[0mlogs\u001b[0m \u001b[0;34m=\u001b[0m \u001b[0mself\u001b[0m\u001b[0;34m.\u001b[0m\u001b[0m_process_logs\u001b[0m\u001b[0;34m(\u001b[0m\u001b[0mlogs\u001b[0m\u001b[0;34m)\u001b[0m\u001b[0;34m\u001b[0m\u001b[0;34m\u001b[0m\u001b[0m\n\u001b[0m\u001b[1;32m    390\u001b[0m       \u001b[0mself\u001b[0m\u001b[0;34m.\u001b[0m\u001b[0m_call_batch_hook\u001b[0m\u001b[0;34m(\u001b[0m\u001b[0mModeKeys\u001b[0m\u001b[0;34m.\u001b[0m\u001b[0mTRAIN\u001b[0m\u001b[0;34m,\u001b[0m \u001b[0;34m'end'\u001b[0m\u001b[0;34m,\u001b[0m \u001b[0mbatch\u001b[0m\u001b[0;34m,\u001b[0m \u001b[0mlogs\u001b[0m\u001b[0;34m=\u001b[0m\u001b[0mlogs\u001b[0m\u001b[0;34m)\u001b[0m\u001b[0;34m\u001b[0m\u001b[0;34m\u001b[0m\u001b[0m\n\u001b[1;32m    391\u001b[0m \u001b[0;34m\u001b[0m\u001b[0m\n",
      "\u001b[0;32m~/anaconda3/envs/aiffel/lib/python3.7/site-packages/tensorflow/python/keras/callbacks.py\u001b[0m in \u001b[0;36m_process_logs\u001b[0;34m(self, logs)\u001b[0m\n\u001b[1;32m    263\u001b[0m     \u001b[0;34m\"\"\"Turns tensors into numpy arrays or Python scalars.\"\"\"\u001b[0m\u001b[0;34m\u001b[0m\u001b[0;34m\u001b[0m\u001b[0m\n\u001b[1;32m    264\u001b[0m     \u001b[0;32mif\u001b[0m \u001b[0mlogs\u001b[0m\u001b[0;34m:\u001b[0m\u001b[0;34m\u001b[0m\u001b[0;34m\u001b[0m\u001b[0m\n\u001b[0;32m--> 265\u001b[0;31m       \u001b[0;32mreturn\u001b[0m \u001b[0mtf_utils\u001b[0m\u001b[0;34m.\u001b[0m\u001b[0mto_numpy_or_python_type\u001b[0m\u001b[0;34m(\u001b[0m\u001b[0mlogs\u001b[0m\u001b[0;34m)\u001b[0m\u001b[0;34m\u001b[0m\u001b[0;34m\u001b[0m\u001b[0m\n\u001b[0m\u001b[1;32m    266\u001b[0m     \u001b[0;32mreturn\u001b[0m \u001b[0;34m{\u001b[0m\u001b[0;34m}\u001b[0m\u001b[0;34m\u001b[0m\u001b[0;34m\u001b[0m\u001b[0m\n\u001b[1;32m    267\u001b[0m \u001b[0;34m\u001b[0m\u001b[0m\n",
      "\u001b[0;32m~/anaconda3/envs/aiffel/lib/python3.7/site-packages/tensorflow/python/keras/utils/tf_utils.py\u001b[0m in \u001b[0;36mto_numpy_or_python_type\u001b[0;34m(tensors)\u001b[0m\n\u001b[1;32m    521\u001b[0m     \u001b[0;32mreturn\u001b[0m \u001b[0mt\u001b[0m  \u001b[0;31m# Don't turn ragged or sparse tensors to NumPy.\u001b[0m\u001b[0;34m\u001b[0m\u001b[0;34m\u001b[0m\u001b[0m\n\u001b[1;32m    522\u001b[0m \u001b[0;34m\u001b[0m\u001b[0m\n\u001b[0;32m--> 523\u001b[0;31m   \u001b[0;32mreturn\u001b[0m \u001b[0mnest\u001b[0m\u001b[0;34m.\u001b[0m\u001b[0mmap_structure\u001b[0m\u001b[0;34m(\u001b[0m\u001b[0m_to_single_numpy_or_python_type\u001b[0m\u001b[0;34m,\u001b[0m \u001b[0mtensors\u001b[0m\u001b[0;34m)\u001b[0m\u001b[0;34m\u001b[0m\u001b[0;34m\u001b[0m\u001b[0m\n\u001b[0m\u001b[1;32m    524\u001b[0m \u001b[0;34m\u001b[0m\u001b[0m\n",
      "\u001b[0;32m~/anaconda3/envs/aiffel/lib/python3.7/site-packages/tensorflow/python/util/nest.py\u001b[0m in \u001b[0;36mmap_structure\u001b[0;34m(func, *structure, **kwargs)\u001b[0m\n\u001b[1;32m    615\u001b[0m \u001b[0;34m\u001b[0m\u001b[0m\n\u001b[1;32m    616\u001b[0m   return pack_sequence_as(\n\u001b[0;32m--> 617\u001b[0;31m       \u001b[0mstructure\u001b[0m\u001b[0;34m[\u001b[0m\u001b[0;36m0\u001b[0m\u001b[0;34m]\u001b[0m\u001b[0;34m,\u001b[0m \u001b[0;34m[\u001b[0m\u001b[0mfunc\u001b[0m\u001b[0;34m(\u001b[0m\u001b[0;34m*\u001b[0m\u001b[0mx\u001b[0m\u001b[0;34m)\u001b[0m \u001b[0;32mfor\u001b[0m \u001b[0mx\u001b[0m \u001b[0;32min\u001b[0m \u001b[0mentries\u001b[0m\u001b[0;34m]\u001b[0m\u001b[0;34m,\u001b[0m\u001b[0;34m\u001b[0m\u001b[0;34m\u001b[0m\u001b[0m\n\u001b[0m\u001b[1;32m    618\u001b[0m       expand_composites=expand_composites)\n\u001b[1;32m    619\u001b[0m \u001b[0;34m\u001b[0m\u001b[0m\n",
      "\u001b[0;32m~/anaconda3/envs/aiffel/lib/python3.7/site-packages/tensorflow/python/util/nest.py\u001b[0m in \u001b[0;36m<listcomp>\u001b[0;34m(.0)\u001b[0m\n\u001b[1;32m    615\u001b[0m \u001b[0;34m\u001b[0m\u001b[0m\n\u001b[1;32m    616\u001b[0m   return pack_sequence_as(\n\u001b[0;32m--> 617\u001b[0;31m       \u001b[0mstructure\u001b[0m\u001b[0;34m[\u001b[0m\u001b[0;36m0\u001b[0m\u001b[0;34m]\u001b[0m\u001b[0;34m,\u001b[0m \u001b[0;34m[\u001b[0m\u001b[0mfunc\u001b[0m\u001b[0;34m(\u001b[0m\u001b[0;34m*\u001b[0m\u001b[0mx\u001b[0m\u001b[0;34m)\u001b[0m \u001b[0;32mfor\u001b[0m \u001b[0mx\u001b[0m \u001b[0;32min\u001b[0m \u001b[0mentries\u001b[0m\u001b[0;34m]\u001b[0m\u001b[0;34m,\u001b[0m\u001b[0;34m\u001b[0m\u001b[0;34m\u001b[0m\u001b[0m\n\u001b[0m\u001b[1;32m    618\u001b[0m       expand_composites=expand_composites)\n\u001b[1;32m    619\u001b[0m \u001b[0;34m\u001b[0m\u001b[0m\n",
      "\u001b[0;32m~/anaconda3/envs/aiffel/lib/python3.7/site-packages/tensorflow/python/keras/utils/tf_utils.py\u001b[0m in \u001b[0;36m_to_single_numpy_or_python_type\u001b[0;34m(t)\u001b[0m\n\u001b[1;32m    517\u001b[0m   \u001b[0;32mdef\u001b[0m \u001b[0m_to_single_numpy_or_python_type\u001b[0m\u001b[0;34m(\u001b[0m\u001b[0mt\u001b[0m\u001b[0;34m)\u001b[0m\u001b[0;34m:\u001b[0m\u001b[0;34m\u001b[0m\u001b[0;34m\u001b[0m\u001b[0m\n\u001b[1;32m    518\u001b[0m     \u001b[0;32mif\u001b[0m \u001b[0misinstance\u001b[0m\u001b[0;34m(\u001b[0m\u001b[0mt\u001b[0m\u001b[0;34m,\u001b[0m \u001b[0mops\u001b[0m\u001b[0;34m.\u001b[0m\u001b[0mTensor\u001b[0m\u001b[0;34m)\u001b[0m\u001b[0;34m:\u001b[0m\u001b[0;34m\u001b[0m\u001b[0;34m\u001b[0m\u001b[0m\n\u001b[0;32m--> 519\u001b[0;31m       \u001b[0mx\u001b[0m \u001b[0;34m=\u001b[0m \u001b[0mt\u001b[0m\u001b[0;34m.\u001b[0m\u001b[0mnumpy\u001b[0m\u001b[0;34m(\u001b[0m\u001b[0;34m)\u001b[0m\u001b[0;34m\u001b[0m\u001b[0;34m\u001b[0m\u001b[0m\n\u001b[0m\u001b[1;32m    520\u001b[0m       \u001b[0;32mreturn\u001b[0m \u001b[0mx\u001b[0m\u001b[0;34m.\u001b[0m\u001b[0mitem\u001b[0m\u001b[0;34m(\u001b[0m\u001b[0;34m)\u001b[0m \u001b[0;32mif\u001b[0m \u001b[0mnp\u001b[0m\u001b[0;34m.\u001b[0m\u001b[0mndim\u001b[0m\u001b[0;34m(\u001b[0m\u001b[0mx\u001b[0m\u001b[0;34m)\u001b[0m \u001b[0;34m==\u001b[0m \u001b[0;36m0\u001b[0m \u001b[0;32melse\u001b[0m \u001b[0mx\u001b[0m\u001b[0;34m\u001b[0m\u001b[0;34m\u001b[0m\u001b[0m\n\u001b[1;32m    521\u001b[0m     \u001b[0;32mreturn\u001b[0m \u001b[0mt\u001b[0m  \u001b[0;31m# Don't turn ragged or sparse tensors to NumPy.\u001b[0m\u001b[0;34m\u001b[0m\u001b[0;34m\u001b[0m\u001b[0m\n",
      "\u001b[0;32m~/anaconda3/envs/aiffel/lib/python3.7/site-packages/tensorflow/python/framework/ops.py\u001b[0m in \u001b[0;36mnumpy\u001b[0;34m(self)\u001b[0m\n\u001b[1;32m    959\u001b[0m     \"\"\"\n\u001b[1;32m    960\u001b[0m     \u001b[0;31m# TODO(slebedev): Consider avoiding a copy for non-CPU or remote tensors.\u001b[0m\u001b[0;34m\u001b[0m\u001b[0;34m\u001b[0m\u001b[0;34m\u001b[0m\u001b[0m\n\u001b[0;32m--> 961\u001b[0;31m     \u001b[0mmaybe_arr\u001b[0m \u001b[0;34m=\u001b[0m \u001b[0mself\u001b[0m\u001b[0;34m.\u001b[0m\u001b[0m_numpy\u001b[0m\u001b[0;34m(\u001b[0m\u001b[0;34m)\u001b[0m  \u001b[0;31m# pylint: disable=protected-access\u001b[0m\u001b[0;34m\u001b[0m\u001b[0;34m\u001b[0m\u001b[0m\n\u001b[0m\u001b[1;32m    962\u001b[0m     \u001b[0;32mreturn\u001b[0m \u001b[0mmaybe_arr\u001b[0m\u001b[0;34m.\u001b[0m\u001b[0mcopy\u001b[0m\u001b[0;34m(\u001b[0m\u001b[0;34m)\u001b[0m \u001b[0;32mif\u001b[0m \u001b[0misinstance\u001b[0m\u001b[0;34m(\u001b[0m\u001b[0mmaybe_arr\u001b[0m\u001b[0;34m,\u001b[0m \u001b[0mnp\u001b[0m\u001b[0;34m.\u001b[0m\u001b[0mndarray\u001b[0m\u001b[0;34m)\u001b[0m \u001b[0;32melse\u001b[0m \u001b[0mmaybe_arr\u001b[0m\u001b[0;34m\u001b[0m\u001b[0;34m\u001b[0m\u001b[0m\n\u001b[1;32m    963\u001b[0m \u001b[0;34m\u001b[0m\u001b[0m\n",
      "\u001b[0;32m~/anaconda3/envs/aiffel/lib/python3.7/site-packages/tensorflow/python/framework/ops.py\u001b[0m in \u001b[0;36m_numpy\u001b[0;34m(self)\u001b[0m\n\u001b[1;32m    925\u001b[0m     \u001b[0;31m# pylint: disable=protected-access\u001b[0m\u001b[0;34m\u001b[0m\u001b[0;34m\u001b[0m\u001b[0;34m\u001b[0m\u001b[0m\n\u001b[1;32m    926\u001b[0m     \u001b[0;32mtry\u001b[0m\u001b[0;34m:\u001b[0m\u001b[0;34m\u001b[0m\u001b[0;34m\u001b[0m\u001b[0m\n\u001b[0;32m--> 927\u001b[0;31m       \u001b[0;32mreturn\u001b[0m \u001b[0mself\u001b[0m\u001b[0;34m.\u001b[0m\u001b[0m_numpy_internal\u001b[0m\u001b[0;34m(\u001b[0m\u001b[0;34m)\u001b[0m\u001b[0;34m\u001b[0m\u001b[0;34m\u001b[0m\u001b[0m\n\u001b[0m\u001b[1;32m    928\u001b[0m     \u001b[0;32mexcept\u001b[0m \u001b[0mcore\u001b[0m\u001b[0;34m.\u001b[0m\u001b[0m_NotOkStatusException\u001b[0m \u001b[0;32mas\u001b[0m \u001b[0me\u001b[0m\u001b[0;34m:\u001b[0m\u001b[0;34m\u001b[0m\u001b[0;34m\u001b[0m\u001b[0m\n\u001b[1;32m    929\u001b[0m       \u001b[0msix\u001b[0m\u001b[0;34m.\u001b[0m\u001b[0mraise_from\u001b[0m\u001b[0;34m(\u001b[0m\u001b[0mcore\u001b[0m\u001b[0;34m.\u001b[0m\u001b[0m_status_to_exception\u001b[0m\u001b[0;34m(\u001b[0m\u001b[0me\u001b[0m\u001b[0;34m.\u001b[0m\u001b[0mcode\u001b[0m\u001b[0;34m,\u001b[0m \u001b[0me\u001b[0m\u001b[0;34m.\u001b[0m\u001b[0mmessage\u001b[0m\u001b[0;34m)\u001b[0m\u001b[0;34m,\u001b[0m \u001b[0;32mNone\u001b[0m\u001b[0;34m)\u001b[0m\u001b[0;34m\u001b[0m\u001b[0;34m\u001b[0m\u001b[0m\n",
      "\u001b[0;31mKeyboardInterrupt\u001b[0m: "
     ]
    }
   ],
   "source": [
    "model121_train, model121_test = get_stacking(DenseNet_121, model_name, train_auto, y_auto, n_fold, seed, epochs, batch_size, learning_rate, EarlyStopping_patience, ReduceLROnPlateau_patience, ReduceLROnPlateau_factor)"
   ]
  },
  {
   "cell_type": "markdown",
   "metadata": {},
   "source": [
    "### DenseNet-169"
   ]
  },
  {
   "cell_type": "code",
   "execution_count": null,
   "metadata": {},
   "outputs": [],
   "source": [
    "epochs = 40\n",
    "batch_size = 32\n",
    "n_fold = 4\n",
    "seed = 2020\n",
    "model_name = \"Dexnet169\" #저장할 모델이름\n",
    "learning_rate = 0.001\n",
    "EarlyStopping_patience = 15 # 얼마나 지켜보고 early stopping 할것인가\n",
    "ReduceLROnPlateau_patience=5 # 얼마나 지켜보고 learing rate 감소시킬 것인가\n",
    "ReduceLROnPlateau_factor=0.5 # 감소시키는 비율 learing rate := learing rate * factor"
   ]
  },
  {
   "cell_type": "code",
   "execution_count": null,
   "metadata": {},
   "outputs": [],
   "source": [
    "model169_train, model169_test = get_stacking(DenseNet_169, model_name, train_auto, y_auto, n_fold, seed, epochs, batch_size, learning_rate, EarlyStopping_patience, ReduceLROnPlateau_patience, ReduceLROnPlateau_factor)"
   ]
  },
  {
   "cell_type": "markdown",
   "metadata": {},
   "source": [
    "### DenseNet-201"
   ]
  },
  {
   "cell_type": "code",
   "execution_count": null,
   "metadata": {},
   "outputs": [],
   "source": [
    "epochs = 200\n",
    "batch_size = 32\n",
    "n_fold = 4\n",
    "seed = 2020\n",
    "model_name = \"Dexnet201\" #저장할 모델이름\n",
    "learning_rate = 0.001\n",
    "EarlyStopping_patience = 15 # 얼마나 지켜보고 early stopping 할것인가\n",
    "ReduceLROnPlateau_patience=5 # 얼마나 지켜보고 learing rate 감소시킬 것인가\n",
    "ReduceLROnPlateau_factor=0.5 # 감소시키는 비율 learing rate := learing rate * factor"
   ]
  },
  {
   "cell_type": "code",
   "execution_count": null,
   "metadata": {},
   "outputs": [],
   "source": [
    "model201_train, model201_test = get_stacking(DenseNet_201, model_name, train_auto, y_auto, n_fold, seed, epochs, batch_size, learning_rate, EarlyStopping_patience, ReduceLROnPlateau_patience, ReduceLROnPlateau_factor)"
   ]
  },
  {
   "cell_type": "markdown",
   "metadata": {},
   "source": [
    "### DenseNet-265"
   ]
  },
  {
   "cell_type": "code",
   "execution_count": null,
   "metadata": {},
   "outputs": [],
   "source": [
    "epochs = 200\n",
    "batch_size = 32\n",
    "n_fold = 4\n",
    "seed = 2020\n",
    "model_name = \"Dexnet265\" #저장할 모델이름\n",
    "learning_rate = 0.001\n",
    "EarlyStopping_patience = 15 # 얼마나 지켜보고 early stopping 할것인가\n",
    "ReduceLROnPlateau_patience=5 # 얼마나 지켜보고 learing rate 감소시킬 것인가\n",
    "ReduceLROnPlateau_factor=0.5 # 감소시키는 비율 learing rate := learing rate * factor"
   ]
  },
  {
   "cell_type": "code",
   "execution_count": null,
   "metadata": {},
   "outputs": [],
   "source": [
    "model265_train, model265_test = get_stacking(DenseNet_265, model_name, train_auto, y_auto, n_fold, seed, epochs, batch_size, learning_rate, EarlyStopping_patience, ReduceLROnPlateau_patience, ReduceLROnPlateau_factor)"
   ]
  },
  {
   "cell_type": "markdown",
   "metadata": {},
   "source": [
    "## Pickle 파일 저장"
   ]
  },
  {
   "cell_type": "markdown",
   "metadata": {},
   "source": [
    "format안에 이름을 설정해주세요  \n",
    "e.g.  \n",
    "rx_train_jh  \n",
    "rx_test_jh  "
   ]
  },
  {
   "cell_type": "markdown",
   "metadata": {},
   "source": [
    "### RexNet"
   ]
  },
  {
   "cell_type": "code",
   "execution_count": 25,
   "metadata": {
    "ExecuteTime": {
     "end_time": "2020-09-08T04:25:45.988978Z",
     "start_time": "2020-09-08T04:25:45.979101Z"
    }
   },
   "outputs": [],
   "source": [
    "# pickle.dump(model_train, open(\"../new_data/{}.pkl\".format(\"rx_train_jh\"), \"wb\"))\n",
    "# pickle.dump(model_test, open(\"../new_data/{}.pkl\".format(\"rx_test_jh\"), \"wb\"))"
   ]
  },
  {
   "cell_type": "markdown",
   "metadata": {},
   "source": [
    "### DenseNet"
   ]
  },
  {
   "cell_type": "code",
   "execution_count": 38,
   "metadata": {},
   "outputs": [],
   "source": [
    "pickle.dump(model121_train, open(\"../new_data/{}.pkl\".format(\"auto_ds121_train_jh\"), \"wb\"))\n",
    "pickle.dump(model121_test, open(\"../new_data/{}.pkl\".format(\"auto_ds121_test_jh\"), \"wb\"))"
   ]
  },
  {
   "cell_type": "code",
   "execution_count": null,
   "metadata": {},
   "outputs": [],
   "source": [
    "pickle.dump(model169_train, open(\"../new_data/{}.pkl\".format(\"auto_ds169_train_jh\"), \"wb\"))\n",
    "pickle.dump(model169_test, open(\"../new_data/{}.pkl\".format(\"auto_ds169_test_jh\"), \"wb\"))"
   ]
  },
  {
   "cell_type": "code",
   "execution_count": null,
   "metadata": {},
   "outputs": [],
   "source": [
    "pickle.dump(model201_train, open(\"../new_data/{}.pkl\".format(\"auto_ds201_train_jh\"), \"wb\"))\n",
    "pickle.dump(model201_test, open(\"../new_data/{}.pkl\".format(\"auto_ds201_test_jh\"), \"wb\"))"
   ]
  },
  {
   "cell_type": "code",
   "execution_count": null,
   "metadata": {},
   "outputs": [],
   "source": [
    "pickle.dump(model265_train, open(\"../new_data/{}.pkl\".format(\"auto_ds265_train_jh\"), \"wb\"))\n",
    "pickle.dump(model265_test, open(\"../new_data/{}.pkl\".format(\"auto_ds265_test_jh\"), \"wb\"))"
   ]
  }
 ],
 "metadata": {
  "kernelspec": {
   "display_name": "aiffel",
   "language": "python",
   "name": "aiffel"
  },
  "language_info": {
   "codemirror_mode": {
    "name": "ipython",
    "version": 3
   },
   "file_extension": ".py",
   "mimetype": "text/x-python",
   "name": "python",
   "nbconvert_exporter": "python",
   "pygments_lexer": "ipython3",
   "version": "3.7.6"
  },
  "toc": {
   "base_numbering": 1,
   "nav_menu": {},
   "number_sections": true,
   "sideBar": true,
   "skip_h1_title": true,
   "title_cell": "Table of Contents",
   "title_sidebar": "Contents",
   "toc_cell": false,
   "toc_position": {
    "height": "calc(100% - 180px)",
    "left": "10px",
    "top": "150px",
    "width": "384px"
   },
   "toc_section_display": true,
   "toc_window_display": true
  },
  "varInspector": {
   "cols": {
    "lenName": 16,
    "lenType": 16,
    "lenVar": 40
   },
   "kernels_config": {
    "python": {
     "delete_cmd_postfix": "",
     "delete_cmd_prefix": "del ",
     "library": "var_list.py",
     "varRefreshCmd": "print(var_dic_list())"
    },
    "r": {
     "delete_cmd_postfix": ") ",
     "delete_cmd_prefix": "rm(",
     "library": "var_list.r",
     "varRefreshCmd": "cat(var_dic_list()) "
    }
   },
   "types_to_exclude": [
    "module",
    "function",
    "builtin_function_or_method",
    "instance",
    "_Feature"
   ],
   "window_display": false
  }
 },
 "nbformat": 4,
 "nbformat_minor": 4
}
